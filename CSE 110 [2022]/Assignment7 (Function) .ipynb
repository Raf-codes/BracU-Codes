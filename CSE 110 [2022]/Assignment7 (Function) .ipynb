{
  "nbformat": 4,
  "nbformat_minor": 0,
  "metadata": {
    "colab": {
      "provenance": []
    },
    "kernelspec": {
      "name": "python3",
      "display_name": "Python 3"
    },
    "language_info": {
      "name": "python"
    }
  },
  "cells": [
    {
      "cell_type": "markdown",
      "source": [
        "**Task 1** : Bubble sorting"
      ],
      "metadata": {
        "id": "FJ1oklu9XPmm"
      }
    },
    {
      "cell_type": "code",
      "execution_count": null,
      "metadata": {
        "id": "2SZWLvg4iSKW",
        "colab": {
          "base_uri": "https://localhost:8080/"
        },
        "outputId": "72a8517a-99e6-4ca6-8701-1bd5e129d803"
      },
      "outputs": [
        {
          "output_type": "stream",
          "name": "stdout",
          "text": [
            "[1, 2, 2, 3, 5, 6, 10, 11, 12, 14, 15, 17, 18, 20, 29]\n"
          ]
        }
      ],
      "source": [
        "my_list = [10, 1, 20, 3, 6, 2, 5, 11, 15, 2, 12, 14, 17, 18, 29]\n",
        "l= len(my_list)\n",
        "for i1 in range(0, l - 1):\n",
        "    for i2 in range(0, l - i1 - 1):\n",
        "        if my_list[i2] > my_list[i2 + 1]:\n",
        "            temp = my_list[i2]\n",
        "            my_list[i2] = my_list[i2 + 1]\n",
        "            my_list[i2 + 1] = temp\n",
        "print(my_list)"
      ]
    },
    {
      "cell_type": "markdown",
      "source": [
        "**Task 2 :** selection sorting"
      ],
      "metadata": {
        "id": "V7btNRsJXQO3"
      }
    },
    {
      "cell_type": "code",
      "source": [
        "my_list2 =  [10, 1, 20, 3, 6, 2, 5, 11, 15, 2, 12, 14, 17, 18, 29]\n",
        "l=len(my_list2)\n",
        "for i1 in range(0, l):\n",
        "    min_value = my_list2[i1]\n",
        "    min_index = i1\n",
        "    for i2 in range(i1, l):\n",
        "        if my_list2[i2] < min_value:\n",
        "            min_value = my_list2[i2]\n",
        "            min_index = i2\n",
        "    temp = min_value\n",
        "    my_list2[min_index] = my_list2[i1]\n",
        "    my_list2[i1] = temp\n",
        "print(my_list2)"
      ],
      "metadata": {
        "id": "OoaY4VwWXQtH",
        "colab": {
          "base_uri": "https://localhost:8080/"
        },
        "outputId": "d7ba7482-61a1-4c88-f844-54e797cbb5f5"
      },
      "execution_count": null,
      "outputs": [
        {
          "output_type": "stream",
          "name": "stdout",
          "text": [
            "[1, 2, 2, 3, 5, 6, 10, 11, 12, 14, 15, 17, 18, 20, 29]\n"
          ]
        }
      ]
    },
    {
      "cell_type": "markdown",
      "source": [
        "**Task 3 :** sorting in  descending order"
      ],
      "metadata": {
        "id": "agii0bATXRE9"
      }
    },
    {
      "cell_type": "code",
      "source": [
        "my_list = [10, 1, 20, 3, 6, 2, 5, 11, 15, 2, 12, 14, 17, 18, 29]\n",
        "l= len(my_list)\n",
        "for i1 in range(0, l - 1):\n",
        "    for i2 in range(0, l - i1 - 1):\n",
        "        if my_list[i2] < my_list[i2 + 1]:\n",
        "            temp = my_list[i2]\n",
        "            my_list[i2] = my_list[i2 + 1]\n",
        "            my_list[i2 + 1] = temp\n",
        "print(my_list)"
      ],
      "metadata": {
        "id": "mtAl50hrXRe1",
        "colab": {
          "base_uri": "https://localhost:8080/"
        },
        "outputId": "9d3a4dc9-8e31-4ea8-c9e1-3319c69e6c0b"
      },
      "execution_count": null,
      "outputs": [
        {
          "output_type": "stream",
          "name": "stdout",
          "text": [
            "[29, 20, 18, 17, 15, 14, 12, 11, 10, 6, 5, 3, 2, 2, 1]\n"
          ]
        }
      ]
    },
    {
      "cell_type": "markdown",
      "source": [
        "**Task 4 :** Studen ID"
      ],
      "metadata": {
        "id": "NjCQcaOXXSCC"
      }
    },
    {
      "cell_type": "code",
      "source": [
        "sitting_list = [10, 30, 20, 70, 11, 15, 22, 16, 58, 100, 12, 56, 70, 80]\n",
        "\n",
        "even_list = []\n",
        "odd_list = []\n",
        "for x in range(len(sitting_list)):\n",
        "    if x % 2 == 0:\n",
        "        even_list.append(sitting_list[x])\n",
        "    if x % 2!=0:\n",
        "        odd_list.append(sitting_list[x])\n",
        "even_list.sort()\n",
        "odd_list.sort(reverse = True)\n",
        "x=len(even_list)\n",
        "y=len(odd_list)\n",
        "result = []\n",
        "count = 0\n",
        "even_count = 0\n",
        "odd_count = 0\n",
        "for count in range(x+y) :\n",
        "    if count % 2 == 0:\n",
        "        result.append (even_list[even_count])\n",
        "        even_count += 1\n",
        "    else:\n",
        "        result.append (odd_list[odd_count])\n",
        "        odd_count += 1\n",
        "    count += 1\n",
        "print(result)"
      ],
      "metadata": {
        "id": "2jJHTTEEXSZH",
        "colab": {
          "base_uri": "https://localhost:8080/"
        },
        "outputId": "09dd3975-55c4-4f21-bff1-2c225e5ac0a3"
      },
      "execution_count": null,
      "outputs": [
        {
          "output_type": "stream",
          "name": "stdout",
          "text": [
            "[10, 100, 11, 80, 12, 70, 20, 56, 22, 30, 58, 16, 70, 15]\n"
          ]
        }
      ]
    },
    {
      "cell_type": "markdown",
      "source": [
        "**Task 5 :** Course Marks"
      ],
      "metadata": {
        "id": "j47NMbhkXSv_"
      }
    },
    {
      "cell_type": "code",
      "source": [
        "course_name = input(\"Enter Your subject: \").upper()\n",
        "number_list = [[\"Alan\", 95, 87, 91], [\"Turing\", 92, 90, 83], [\"Elon\", 87, 92, 80], [\"Musk\", 85, 94, 90]]\n",
        "if course_name == 'CSE110':\n",
        "    index = 1\n",
        "elif course_name == 'PHY111':\n",
        "    index = 2\n",
        "elif course_name == 'MAT110':\n",
        "    index = 3\n",
        "l=len(number_list)\n",
        "for i in range(l):\n",
        "    for x in range(l- 1 - i):\n",
        "        if number_list[x][index] < number_list[x + 1][index]:\n",
        "            temp = number_list[x]\n",
        "            number_list[x] = number_list[x + 1]\n",
        "            number_list[x + 1] = temp\n",
        "for y in range(len(number_list)):\n",
        "    print(number_list[y][0])"
      ],
      "metadata": {
        "id": "HwkDkfiRXTJZ",
        "colab": {
          "base_uri": "https://localhost:8080/"
        },
        "outputId": "f74f3eeb-b6ee-44b9-8e07-f740494a8b19"
      },
      "execution_count": null,
      "outputs": [
        {
          "output_type": "stream",
          "name": "stdout",
          "text": [
            "Enter Your subject: mat110\n",
            "Alan\n",
            "Musk\n",
            "Turing\n",
            "Elon\n"
          ]
        }
      ]
    },
    {
      "cell_type": "markdown",
      "source": [
        "**Task 6 :** position change count"
      ],
      "metadata": {
        "id": "v3q-a_QQXTr9"
      }
    },
    {
      "cell_type": "code",
      "source": [
        "my_list = [4,2,3,1,6,5]\n",
        "l= len(my_list)\n",
        "jk=my_list.copy()\n",
        "for i1 in range(0, l - 1):\n",
        "    for i2 in range(0, l - i1 - 1):\n",
        "        if my_list[i2] > my_list[i2 + 1]:\n",
        "            temp = my_list[i2]\n",
        "            my_list[i2] = my_list[i2 + 1]\n",
        "            my_list[i2 + 1] = temp\n",
        "new_list = my_list\n",
        "count=0\n",
        "for i in range(len(my_list)):\n",
        "  if new_list[i] != jk[i]:\n",
        "    count += 1\n",
        "print(count)"
      ],
      "metadata": {
        "id": "m9bdyXqcXUHP",
        "colab": {
          "base_uri": "https://localhost:8080/"
        },
        "outputId": "f137b52b-1685-4439-d3b1-e0f168817090"
      },
      "execution_count": null,
      "outputs": [
        {
          "output_type": "stream",
          "name": "stdout",
          "text": [
            "4\n"
          ]
        }
      ]
    },
    {
      "cell_type": "markdown",
      "source": [
        "**Task 7 :** median"
      ],
      "metadata": {
        "id": "zqKxVtQoXUkD"
      }
    },
    {
      "cell_type": "code",
      "source": [
        "lis_1 = input('').strip(' ').strip('[]').replace(' ','').split(',')\n",
        "lis_2 = input('').strip(' ').strip('[]').replace(' ','').split(',')\n",
        "result = []\n",
        "for i in lis_1:\n",
        "  result.append(int(i))\n",
        "for j in lis_2:\n",
        "  result.append(int(j))\n",
        "result.sort()\n",
        "\n",
        "print(\"Sorted list\", result)\n",
        "\n",
        "if len(result) % 2 == 0:\n",
        "    median = (result[int(len(result)/2)] + result[int(len(result)/2 - 1)]) / 2\n",
        "    print(\"Median:\", median)\n",
        "else:\n",
        "    median = result[int(len(result) / 2)]\n",
        "    print(\"Median:\", median)"
      ],
      "metadata": {
        "id": "wbrcEvVQXU8z",
        "colab": {
          "base_uri": "https://localhost:8080/"
        },
        "outputId": "fbe5fa7f-e57f-44bb-afc0-b00b2182860d"
      },
      "execution_count": null,
      "outputs": [
        {
          "output_type": "stream",
          "name": "stdout",
          "text": [
            "[1, 2, 1, 4]\n",
            "[5, 4, 1]\n",
            "Sorted list [1, 1, 1, 2, 4, 4, 5]\n",
            "Median: 2\n"
          ]
        }
      ]
    },
    {
      "cell_type": "markdown",
      "source": [
        "**Task 8 :** sum closest to zero\n"
      ],
      "metadata": {
        "id": "3VA_JpK3XVRX"
      }
    },
    {
      "cell_type": "code",
      "source": [
        "lis_1 =  [1, -8, 4, -7, -20, 26, 70, -85]\n",
        "min = 0\n",
        "flag= True\n",
        "for i in range(len(lis_1)):\n",
        "    for j in range(0, len(lis_1)):\n",
        "        sum = (lis_1[i] + lis_1[j])\n",
        "        if i == j:\n",
        "            continue\n",
        "        if flag:\n",
        "            min = abs(sum), lis_1[i], lis_1[j]\n",
        "            flag = False\n",
        "\n",
        "        elif abs(sum) < min[0]:\n",
        "            min = abs(sum), lis_1[i], lis_1[j]\n",
        "\n",
        "print(\"Two pairs which have the smallest sum =\", min[1], \"and\", min[2])"
      ],
      "metadata": {
        "id": "ycqoja4SXVmk",
        "colab": {
          "base_uri": "https://localhost:8080/"
        },
        "outputId": "b725c458-4cb9-4ec7-c1d7-ff6aaa9fe89c"
      },
      "execution_count": null,
      "outputs": [
        {
          "output_type": "stream",
          "name": "stdout",
          "text": [
            "Two pairs which have the smallest sum = 4 and -7\n"
          ]
        }
      ]
    },
    {
      "cell_type": "markdown",
      "source": [
        "**Task 9 :** minimum distance"
      ],
      "metadata": {
        "id": "N3DIl88iXWI9"
      }
    },
    {
      "cell_type": "code",
      "source": [
        "import math\n",
        "p=[(5,3), (2,9), (-2,7), (-3,-4), (0,6), (7,-2)]\n",
        "min_distance = (math.pow(p[0][0],2)+(math.pow(p[0][1],2)))**(1/2)\n",
        "for i in p:\n",
        "    distance=(math.pow(i[0],2)+(math.pow(i[1],2)))**(1/2)\n",
        "    if distance< min_distance :\n",
        "        min_distance=distance\n",
        "        e=i\n",
        "print('Minimum distance =',min_distance)\n",
        "print('Here the closest point is {} which has a distance of {} from the origin'.format(e,min_distance))"
      ],
      "metadata": {
        "id": "WrK5WrDcXWc9",
        "colab": {
          "base_uri": "https://localhost:8080/"
        },
        "outputId": "78d107d9-8acb-4509-9779-21e36ab2fc24"
      },
      "execution_count": null,
      "outputs": [
        {
          "output_type": "stream",
          "name": "stdout",
          "text": [
            "Minimum distance = 5.0\n",
            "Here the closest point is (-3, -4) which has a distance of 5.0 from the origin\n"
          ]
        }
      ]
    }
  ]
}