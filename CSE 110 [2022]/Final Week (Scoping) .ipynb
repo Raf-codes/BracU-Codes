{
 "cells": [
  {
   "cell_type": "markdown",
   "metadata": {
    "id": "7jL9PV-oblBm"
   },
   "source": [
    "# **Function Problems**"
   ]
  },
  {
   "cell_type": "markdown",
   "metadata": {
    "id": "D6pXDiagmkVx"
   },
   "source": [
    "## Practice Problem 1\n",
    "\n",
    "Write a Python Function that will take Student IDs in a single line. Now create and return a dictionary from the given IDs that will hold the IDs in separate keys based on the admitting year. <br> \n",
    "Explanation: First 2 digits of the ID denotes the year. <br> ================================================ <br> \n",
    "Function Call 1: `myFunction(\"18101202 18104354 20101457 19103372 20301021\")` <br> \n",
    "Sample Output1: `{'18th': ['18101202', '18104354'], '20th': ['20101457', '20301021'], '19th': ['19103372']}` <br> \n",
    "================================================ <br> \n",
    "Function Call 2: `myFunction(\"10101202 12104354 13101457 13103372 20301021 10101457\")` <br> \n",
    "Sample Output2: `{'10th': ['10101202', '10101457'], '12th': ['12104354'], '13th': ['13101457', '13103372'], '20th': ['20301021']}` <br> \n",
    "\n"
   ]
  },
  {
   "cell_type": "code",
   "execution_count": 1,
   "metadata": {
    "colab": {
     "base_uri": "https://localhost:8080/"
    },
    "executionInfo": {
     "elapsed": 37,
     "status": "ok",
     "timestamp": 1649614352267,
     "user": {
      "displayName": "Dibyo Fabian Dofadar",
      "userId": "12166962139887281353"
     },
     "user_tz": -360
    },
    "id": "Xh4rStfsmjhj",
    "outputId": "885921f7-5087-46bd-f795-8494af2be509"
   },
   "outputs": [
    {
     "name": "stdout",
     "output_type": "stream",
     "text": [
      "{'18th': ['18101202', '18104354'], '20th': ['20101457', '20301021'], '19th': ['19103372']}\n",
      "{'10th': ['10101202', '10101457'], '12th': ['12104354'], '13th': ['13101457', '13103372'], '20th': ['20301021']}\n"
     ]
    }
   ],
   "source": [
    "def myFunction(id_str):\n",
    "    list1 = id_str.split(\" \")\n",
    "    dict1 = {}\n",
    "    for i in list1:\n",
    "        k = i[:2] +\"th\"\n",
    "        if k not in dict1.keys():\n",
    "            dict1[k] = [i]\n",
    "        else:\n",
    "            dict1[k].append(i)\n",
    "    return dict1\n",
    "\n",
    "print(myFunction(\"18101202 18104354 20101457 19103372 20301021\"))\n",
    "print(myFunction(\"10101202 12104354 13101457 13103372 20301021 10101457\"))"
   ]
  },
  {
   "cell_type": "markdown",
   "metadata": {
    "id": "IWV0fyV9oyLK"
   },
   "source": [
    "## Practice Problem 2\n",
    "Write a Python function that will take a list of even length as the parameter and find the CGPA of a student using that list. In the list, two consecutive values denote the grade point of a course and the corresponding credit for that particular course. <br> \n",
    "The formula of calculating CGPA for this task is given below: <br> \n",
    "`CGPA = summation of (individual course grade point x corresponding credit) / total credits` <br> \n",
    "Finally, return the value in the function call. <br> \n",
    "\n",
    "[You do not need to take the list as user input. But your program should work for any similar format list passed as the parameter.] <br> \n",
    "-------------------------------------------------------------- <br>\n",
    "Function Call 1: `calc_cgpa([4, 3, 3.7, 3, 4, 4])` <br> \n",
    "Sample Output 1: `3.91` <br> \n",
    "Explanation: In the given list, the even indexed values contain the grade points of three courses (4, 3.7 and 4) and the odd indexed values contain the corresponding credit for those courses (3, 3 and 4). So, the CGPA of that student will be: `[(4 * 3) + (3.7 * 3) + (4 * 4)] / (3 + 3 + 4) = 3.91` which will be returned in the function call. <br> -------------------------------------------------------------- <br> \n",
    "Function Call 2: `calc_cgpa([2.7, 3, 3.3, 3, 3.7, 4, 4, 3])` <br> \n",
    "Sample Output 2: `3.446153846153846` <br> \n",
    "Explanation: CGPA of the student will be: `[(2.7 * 3) + (3.3 * 3) + (3.7 * 4) + (4 * 3)] / (3 + 3 + 4 + 3) = 3.446153846153846` which will be returned in the function call. <br> -------------------------------------------------------------- <br> \n",
    "Function Call 3: `calc_cgpa([3, 3, 3.7, 3])` <br> \n",
    "Sample Output 3: `3.35` <br> \n",
    "Explanation: CGPA of the student will be: `[(3 * 3) + (3.7 * 3)] / (3 + 3) = 3.35` which will be returned in the function call. <br> "
   ]
  },
  {
   "cell_type": "code",
   "execution_count": 2,
   "metadata": {
    "colab": {
     "base_uri": "https://localhost:8080/"
    },
    "executionInfo": {
     "elapsed": 26,
     "status": "ok",
     "timestamp": 1649614352268,
     "user": {
      "displayName": "Dibyo Fabian Dofadar",
      "userId": "12166962139887281353"
     },
     "user_tz": -360
    },
    "id": "BJpue5CCo1Bp",
    "outputId": "42551a47-153c-4e42-92dc-b84515f2e8e4"
   },
   "outputs": [
    {
     "name": "stdout",
     "output_type": "stream",
     "text": [
      "3.91\n",
      "3.446153846153846\n",
      "3.35\n"
     ]
    }
   ],
   "source": [
    "def calc_cgpa(list1):\n",
    "    summation = 0\n",
    "    credits = 0\n",
    "    for i in range(0,len(list1),2):\n",
    "        summation += list1[i] * list1[i+1]\n",
    "        credits += list1[i+1]\n",
    "    cgpa = summation / credits\n",
    "    return cgpa\n",
    "\n",
    "print(calc_cgpa([4, 3, 3.7, 3, 4, 4]))\n",
    "print(calc_cgpa([2.7, 3, 3.3, 3, 3.7, 4, 4, 3]))\n",
    "print(calc_cgpa([3, 3, 3.7, 3]))"
   ]
  },
  {
   "cell_type": "markdown",
   "metadata": {
    "id": "SfgVXewzWng8"
   },
   "source": [
    "# **Function Variable Scoping**"
   ]
  },
  {
   "cell_type": "code",
   "execution_count": 3,
   "metadata": {
    "colab": {
     "base_uri": "https://localhost:8080/",
     "height": 218
    },
    "executionInfo": {
     "elapsed": 499,
     "status": "error",
     "timestamp": 1649614352747,
     "user": {
      "displayName": "Dibyo Fabian Dofadar",
      "userId": "12166962139887281353"
     },
     "user_tz": -360
    },
    "id": "L8qhQNVZDiYP",
    "outputId": "3c2ac578-0bf9-493c-a970-0a8b00954857"
   },
   "outputs": [
    {
     "name": "stdout",
     "output_type": "stream",
     "text": [
      "local variable\n"
     ]
    },
    {
     "ename": "NameError",
     "evalue": "ignored",
     "output_type": "error",
     "traceback": [
      "\u001b[0;31m---------------------------------------------------------------------------\u001b[0m",
      "\u001b[0;31mNameError\u001b[0m                                 Traceback (most recent call last)",
      "\u001b[0;32m<ipython-input-3-35a57a15d4c5>\u001b[0m in \u001b[0;36m<module>\u001b[0;34m()\u001b[0m\n\u001b[1;32m      6\u001b[0m \u001b[0;34m\u001b[0m\u001b[0m\n\u001b[1;32m      7\u001b[0m \u001b[0mfunc\u001b[0m\u001b[0;34m(\u001b[0m\u001b[0;34m)\u001b[0m\u001b[0;34m\u001b[0m\u001b[0;34m\u001b[0m\u001b[0m\n\u001b[0;32m----> 8\u001b[0;31m \u001b[0mprint\u001b[0m\u001b[0;34m(\u001b[0m\u001b[0mv\u001b[0m\u001b[0;34m)\u001b[0m \u001b[0;31m# NameError: name 'v' is not defined\u001b[0m\u001b[0;34m\u001b[0m\u001b[0;34m\u001b[0m\u001b[0m\n\u001b[0m",
      "\u001b[0;31mNameError\u001b[0m: name 'v' is not defined"
     ]
    }
   ],
   "source": [
    "# local variable\n",
    "\n",
    "def func():\n",
    "    v = 'local variable'\n",
    "    print(v)\n",
    "    \n",
    "func()\n",
    "print(v) # NameError: name 'v' is not defined"
   ]
  },
  {
   "cell_type": "code",
   "execution_count": 4,
   "metadata": {
    "colab": {
     "base_uri": "https://localhost:8080/"
    },
    "executionInfo": {
     "elapsed": 435,
     "status": "ok",
     "timestamp": 1649614426315,
     "user": {
      "displayName": "Dibyo Fabian Dofadar",
      "userId": "12166962139887281353"
     },
     "user_tz": -360
    },
    "id": "zgT63yJLdnbw",
    "outputId": "ddee5b57-013e-4164-c6cc-52857823c3b2"
   },
   "outputs": [
    {
     "name": "stdout",
     "output_type": "stream",
     "text": [
      "local variable\n",
      "global variable\n"
     ]
    }
   ],
   "source": [
    "# global variable \n",
    "\n",
    "v = 'global variable'\n",
    "def func():\n",
    "    v = 'local variable'\n",
    "    print(v)\n",
    "    \n",
    "func()\n",
    "print(v) "
   ]
  },
  {
   "cell_type": "code",
   "execution_count": 5,
   "metadata": {
    "colab": {
     "base_uri": "https://localhost:8080/"
    },
    "executionInfo": {
     "elapsed": 441,
     "status": "ok",
     "timestamp": 1649614429477,
     "user": {
      "displayName": "Dibyo Fabian Dofadar",
      "userId": "12166962139887281353"
     },
     "user_tz": -360
    },
    "id": "tDCl3zcaeFZV",
    "outputId": "50f7186f-1c07-4b1e-f2c5-c29c383c8c92"
   },
   "outputs": [
    {
     "name": "stdout",
     "output_type": "stream",
     "text": [
      "local variable named v\n",
      "global variable\n"
     ]
    }
   ],
   "source": [
    "# changing a local variable (change inside the function)\n",
    "\n",
    "v = 'global variable'\n",
    "\n",
    "def func():\n",
    "    v = 'local variable'\n",
    "    v += ' named v'\n",
    "    print(v)\n",
    "    \n",
    "func()\n",
    "print(v)"
   ]
  },
  {
   "cell_type": "code",
   "execution_count": 6,
   "metadata": {
    "colab": {
     "base_uri": "https://localhost:8080/",
     "height": 357
    },
    "executionInfo": {
     "elapsed": 404,
     "status": "error",
     "timestamp": 1649614434794,
     "user": {
      "displayName": "Dibyo Fabian Dofadar",
      "userId": "12166962139887281353"
     },
     "user_tz": -360
    },
    "id": "v_zpxKaflKJ3",
    "outputId": "89a2baa6-de64-40f3-c535-9487ad6593ac"
   },
   "outputs": [
    {
     "ename": "UnboundLocalError",
     "evalue": "ignored",
     "output_type": "error",
     "traceback": [
      "\u001b[0;31m---------------------------------------------------------------------------\u001b[0m",
      "\u001b[0;31mUnboundLocalError\u001b[0m                         Traceback (most recent call last)",
      "\u001b[0;32m<ipython-input-6-af8f7c2178e3>\u001b[0m in \u001b[0;36m<module>\u001b[0;34m()\u001b[0m\n\u001b[1;32m      5\u001b[0m     \u001b[0mv\u001b[0m \u001b[0;34m+=\u001b[0m \u001b[0;34m' named v'\u001b[0m \u001b[0;31m# local variable 'v' referenced before assignment\u001b[0m\u001b[0;34m\u001b[0m\u001b[0;34m\u001b[0m\u001b[0m\n\u001b[1;32m      6\u001b[0m     \u001b[0mprint\u001b[0m\u001b[0;34m(\u001b[0m\u001b[0mv\u001b[0m\u001b[0;34m)\u001b[0m\u001b[0;34m\u001b[0m\u001b[0;34m\u001b[0m\u001b[0m\n\u001b[0;32m----> 7\u001b[0;31m \u001b[0mfunc\u001b[0m\u001b[0;34m(\u001b[0m\u001b[0;34m)\u001b[0m\u001b[0;34m\u001b[0m\u001b[0;34m\u001b[0m\u001b[0m\n\u001b[0m\u001b[1;32m      8\u001b[0m \u001b[0mprint\u001b[0m\u001b[0;34m(\u001b[0m\u001b[0mv\u001b[0m\u001b[0;34m)\u001b[0m\u001b[0;34m\u001b[0m\u001b[0;34m\u001b[0m\u001b[0m\n\u001b[1;32m      9\u001b[0m \u001b[0;34m\u001b[0m\u001b[0m\n",
      "\u001b[0;32m<ipython-input-6-af8f7c2178e3>\u001b[0m in \u001b[0;36mfunc\u001b[0;34m()\u001b[0m\n\u001b[1;32m      3\u001b[0m \u001b[0mv\u001b[0m \u001b[0;34m=\u001b[0m \u001b[0;34m'global variable'\u001b[0m\u001b[0;34m\u001b[0m\u001b[0;34m\u001b[0m\u001b[0m\n\u001b[1;32m      4\u001b[0m \u001b[0;32mdef\u001b[0m \u001b[0mfunc\u001b[0m\u001b[0;34m(\u001b[0m\u001b[0;34m)\u001b[0m\u001b[0;34m:\u001b[0m\u001b[0;34m\u001b[0m\u001b[0;34m\u001b[0m\u001b[0m\n\u001b[0;32m----> 5\u001b[0;31m     \u001b[0mv\u001b[0m \u001b[0;34m+=\u001b[0m \u001b[0;34m' named v'\u001b[0m \u001b[0;31m# local variable 'v' referenced before assignment\u001b[0m\u001b[0;34m\u001b[0m\u001b[0;34m\u001b[0m\u001b[0m\n\u001b[0m\u001b[1;32m      6\u001b[0m     \u001b[0mprint\u001b[0m\u001b[0;34m(\u001b[0m\u001b[0mv\u001b[0m\u001b[0;34m)\u001b[0m\u001b[0;34m\u001b[0m\u001b[0;34m\u001b[0m\u001b[0m\n\u001b[1;32m      7\u001b[0m \u001b[0mfunc\u001b[0m\u001b[0;34m(\u001b[0m\u001b[0;34m)\u001b[0m\u001b[0;34m\u001b[0m\u001b[0;34m\u001b[0m\u001b[0m\n",
      "\u001b[0;31mUnboundLocalError\u001b[0m: local variable 'v' referenced before assignment"
     ]
    }
   ],
   "source": [
    "# changing a global variable\n",
    "\n",
    "v = 'global variable'\n",
    "def func():\n",
    "    v += ' named v' # local variable 'v' referenced before assignment\n",
    "    print(v)\n",
    "func()\n",
    "print(v)\n",
    "\n",
    "# how to get rid of this situation?"
   ]
  },
  {
   "cell_type": "code",
   "execution_count": 7,
   "metadata": {
    "colab": {
     "base_uri": "https://localhost:8080/"
    },
    "executionInfo": {
     "elapsed": 596,
     "status": "ok",
     "timestamp": 1649614437747,
     "user": {
      "displayName": "Dibyo Fabian Dofadar",
      "userId": "12166962139887281353"
     },
     "user_tz": -360
    },
    "id": "vWgfBI3SVxKb",
    "outputId": "b583bf40-9d6f-4ff2-b6d9-202646529b82"
   },
   "outputs": [
    {
     "name": "stdout",
     "output_type": "stream",
     "text": [
      "global variable named v\n",
      "global variable named v\n"
     ]
    }
   ],
   "source": [
    "# changing a global variable ('global' keyword) \n",
    "\n",
    "v = 'global variable'\n",
    "def func():\n",
    "    global v\n",
    "    v += ' named v' # no error this time\n",
    "    print(v)\n",
    "\n",
    "func()\n",
    "print(v)"
   ]
  },
  {
   "cell_type": "code",
   "execution_count": 8,
   "metadata": {
    "colab": {
     "base_uri": "https://localhost:8080/"
    },
    "executionInfo": {
     "elapsed": 403,
     "status": "ok",
     "timestamp": 1649614441963,
     "user": {
      "displayName": "Dibyo Fabian Dofadar",
      "userId": "12166962139887281353"
     },
     "user_tz": -360
    },
    "id": "OTi5aqTel5Fe",
    "outputId": "f95b9e14-19d9-4b0c-9b78-c5f0864131c3"
   },
   "outputs": [
    {
     "name": "stdout",
     "output_type": "stream",
     "text": [
      "inner function variable\n",
      "outer function variable\n",
      "global variable\n"
     ]
    }
   ],
   "source": [
    "# nested function\n",
    "\n",
    "v = 'global variable'\n",
    "def func_out():\n",
    "    v = 'outer function variable'\n",
    "\n",
    "    def func_in():\n",
    "        v = 'inner function variable'\n",
    "        print(v)\n",
    "        \n",
    "    func_in()\n",
    "    print(v)\n",
    "\n",
    "func_out()\n",
    "print(v)"
   ]
  },
  {
   "cell_type": "code",
   "execution_count": 9,
   "metadata": {
    "colab": {
     "base_uri": "https://localhost:8080/"
    },
    "executionInfo": {
     "elapsed": 406,
     "status": "ok",
     "timestamp": 1649614446563,
     "user": {
      "displayName": "Dibyo Fabian Dofadar",
      "userId": "12166962139887281353"
     },
     "user_tz": -360
    },
    "id": "E7PXcs8_tSuL",
    "outputId": "a3b16af1-5c41-4033-b4a0-49f536a7a24c"
   },
   "outputs": [
    {
     "name": "stdout",
     "output_type": "stream",
     "text": [
      "outer function variable\n",
      "outer function variable\n",
      "global variable\n"
     ]
    }
   ],
   "source": [
    "# no inner function variable in nested function\n",
    "\n",
    "v = 'global variable'\n",
    "def func_out():\n",
    "    v = 'outer function variable'\n",
    "\n",
    "    def func_in():\n",
    "        # v = 'inner function variable'\n",
    "        print(v)\n",
    "    func_in()\n",
    "    print(v)\n",
    "    \n",
    "func_out()\n",
    "print(v)"
   ]
  },
  {
   "cell_type": "code",
   "execution_count": 10,
   "metadata": {
    "colab": {
     "base_uri": "https://localhost:8080/"
    },
    "executionInfo": {
     "elapsed": 419,
     "status": "ok",
     "timestamp": 1649614450330,
     "user": {
      "displayName": "Dibyo Fabian Dofadar",
      "userId": "12166962139887281353"
     },
     "user_tz": -360
    },
    "id": "tCGXopi8xRPV",
    "outputId": "43211eee-5826-4da8-ba53-c0d6cce06095"
   },
   "outputs": [
    {
     "name": "stdout",
     "output_type": "stream",
     "text": [
      "global variable\n",
      "global variable\n",
      "global variable\n"
     ]
    }
   ],
   "source": [
    "# no outer and inner function variable in nested function\n",
    "\n",
    "v = 'global variable'\n",
    "def func_out():\n",
    "    # v = 'outer function variable'\n",
    "\n",
    "    def func_in():\n",
    "        # v = 'inner function variable'\n",
    "        print(v)\n",
    "    func_in()\n",
    "    print(v)\n",
    "    \n",
    "func_out()\n",
    "print(v)"
   ]
  },
  {
   "cell_type": "code",
   "execution_count": 11,
   "metadata": {
    "colab": {
     "base_uri": "https://localhost:8080/",
     "height": 381
    },
    "executionInfo": {
     "elapsed": 456,
     "status": "error",
     "timestamp": 1649614457858,
     "user": {
      "displayName": "Dibyo Fabian Dofadar",
      "userId": "12166962139887281353"
     },
     "user_tz": -360
    },
    "id": "EUPXPDG_xc7M",
    "outputId": "efee9621-ba50-4165-c3cd-1762afbb3d73"
   },
   "outputs": [
    {
     "ename": "UnboundLocalError",
     "evalue": "ignored",
     "output_type": "error",
     "traceback": [
      "\u001b[0;31m---------------------------------------------------------------------------\u001b[0m",
      "\u001b[0;31mUnboundLocalError\u001b[0m                         Traceback (most recent call last)",
      "\u001b[0;32m<ipython-input-11-f7572c7dc698>\u001b[0m in \u001b[0;36m<module>\u001b[0;34m()\u001b[0m\n\u001b[1;32m     11\u001b[0m     \u001b[0mprint\u001b[0m\u001b[0;34m(\u001b[0m\u001b[0mv\u001b[0m\u001b[0;34m)\u001b[0m\u001b[0;34m\u001b[0m\u001b[0;34m\u001b[0m\u001b[0m\n\u001b[1;32m     12\u001b[0m \u001b[0;34m\u001b[0m\u001b[0m\n\u001b[0;32m---> 13\u001b[0;31m \u001b[0mfunc_out\u001b[0m\u001b[0;34m(\u001b[0m\u001b[0;34m)\u001b[0m\u001b[0;34m\u001b[0m\u001b[0;34m\u001b[0m\u001b[0m\n\u001b[0m\u001b[1;32m     14\u001b[0m \u001b[0mprint\u001b[0m\u001b[0;34m(\u001b[0m\u001b[0mv\u001b[0m\u001b[0;34m)\u001b[0m\u001b[0;34m\u001b[0m\u001b[0;34m\u001b[0m\u001b[0m\n\u001b[1;32m     15\u001b[0m \u001b[0;34m\u001b[0m\u001b[0m\n",
      "\u001b[0;32m<ipython-input-11-f7572c7dc698>\u001b[0m in \u001b[0;36mfunc_out\u001b[0;34m()\u001b[0m\n\u001b[1;32m      8\u001b[0m         \u001b[0mv\u001b[0m \u001b[0;34m+=\u001b[0m \u001b[0;34m' named v'\u001b[0m \u001b[0;31m# local variable 'v' referenced before assignment\u001b[0m\u001b[0;34m\u001b[0m\u001b[0;34m\u001b[0m\u001b[0m\n\u001b[1;32m      9\u001b[0m         \u001b[0mprint\u001b[0m\u001b[0;34m(\u001b[0m\u001b[0mv\u001b[0m\u001b[0;34m)\u001b[0m\u001b[0;34m\u001b[0m\u001b[0;34m\u001b[0m\u001b[0m\n\u001b[0;32m---> 10\u001b[0;31m     \u001b[0mfunc_in\u001b[0m\u001b[0;34m(\u001b[0m\u001b[0;34m)\u001b[0m\u001b[0;34m\u001b[0m\u001b[0;34m\u001b[0m\u001b[0m\n\u001b[0m\u001b[1;32m     11\u001b[0m     \u001b[0mprint\u001b[0m\u001b[0;34m(\u001b[0m\u001b[0mv\u001b[0m\u001b[0;34m)\u001b[0m\u001b[0;34m\u001b[0m\u001b[0;34m\u001b[0m\u001b[0m\n\u001b[1;32m     12\u001b[0m \u001b[0;34m\u001b[0m\u001b[0m\n",
      "\u001b[0;32m<ipython-input-11-f7572c7dc698>\u001b[0m in \u001b[0;36mfunc_in\u001b[0;34m()\u001b[0m\n\u001b[1;32m      6\u001b[0m \u001b[0;34m\u001b[0m\u001b[0m\n\u001b[1;32m      7\u001b[0m     \u001b[0;32mdef\u001b[0m \u001b[0mfunc_in\u001b[0m\u001b[0;34m(\u001b[0m\u001b[0;34m)\u001b[0m\u001b[0;34m:\u001b[0m\u001b[0;34m\u001b[0m\u001b[0;34m\u001b[0m\u001b[0m\n\u001b[0;32m----> 8\u001b[0;31m         \u001b[0mv\u001b[0m \u001b[0;34m+=\u001b[0m \u001b[0;34m' named v'\u001b[0m \u001b[0;31m# local variable 'v' referenced before assignment\u001b[0m\u001b[0;34m\u001b[0m\u001b[0;34m\u001b[0m\u001b[0m\n\u001b[0m\u001b[1;32m      9\u001b[0m         \u001b[0mprint\u001b[0m\u001b[0;34m(\u001b[0m\u001b[0mv\u001b[0m\u001b[0;34m)\u001b[0m\u001b[0;34m\u001b[0m\u001b[0;34m\u001b[0m\u001b[0m\n\u001b[1;32m     10\u001b[0m     \u001b[0mfunc_in\u001b[0m\u001b[0;34m(\u001b[0m\u001b[0;34m)\u001b[0m\u001b[0;34m\u001b[0m\u001b[0;34m\u001b[0m\u001b[0m\n",
      "\u001b[0;31mUnboundLocalError\u001b[0m: local variable 'v' referenced before assignment"
     ]
    }
   ],
   "source": [
    "# changing outer function variable in nested function\n",
    "\n",
    "v = 'global variable'\n",
    "def func_out():\n",
    "    v = 'outer function variable'\n",
    "\n",
    "    def func_in():\n",
    "        v += ' named v' # local variable 'v' referenced before assignment\n",
    "        print(v)\n",
    "    func_in()\n",
    "    print(v)\n",
    "    \n",
    "func_out()\n",
    "print(v)\n",
    "\n",
    "# how to get rid of this situation?"
   ]
  },
  {
   "cell_type": "code",
   "execution_count": 12,
   "metadata": {
    "colab": {
     "base_uri": "https://localhost:8080/"
    },
    "executionInfo": {
     "elapsed": 409,
     "status": "ok",
     "timestamp": 1649614462544,
     "user": {
      "displayName": "Dibyo Fabian Dofadar",
      "userId": "12166962139887281353"
     },
     "user_tz": -360
    },
    "id": "3WzFxlOzWMPA",
    "outputId": "53826054-fdf9-4539-a667-2fef6e73df7f"
   },
   "outputs": [
    {
     "name": "stdout",
     "output_type": "stream",
     "text": [
      "outer function variable named v\n",
      "outer function variable named v\n",
      "global variable\n"
     ]
    }
   ],
   "source": [
    "# changing outer function variable in nested function ('nonlocal' keyword)\n",
    "\n",
    "v = 'global variable'\n",
    "def func_out():\n",
    "    v = 'outer function variable'\n",
    "\n",
    "    def func_in():\n",
    "        nonlocal v\n",
    "        v += ' named v' # no error this time\n",
    "        print(v)\n",
    "    func_in()\n",
    "    print(v)\n",
    "    \n",
    "func_out()\n",
    "print(v)"
   ]
  },
  {
   "cell_type": "code",
   "execution_count": 13,
   "metadata": {
    "colab": {
     "base_uri": "https://localhost:8080/"
    },
    "executionInfo": {
     "elapsed": 14,
     "status": "ok",
     "timestamp": 1649614466414,
     "user": {
      "displayName": "Dibyo Fabian Dofadar",
      "userId": "12166962139887281353"
     },
     "user_tz": -360
    },
    "id": "E9HG0FrQyBSO",
    "outputId": "ad96ed87-3235-4083-c73f-efe13830c51e"
   },
   "outputs": [
    {
     "name": "stdout",
     "output_type": "stream",
     "text": [
      "global variable named v\n",
      "global variable named v\n",
      "global variable named v\n"
     ]
    }
   ],
   "source": [
    "# changing global variable in nested function\n",
    "\n",
    "v = 'global variable'\n",
    "def func_out():\n",
    "    \n",
    "    def func_in():\n",
    "        global v\n",
    "        v += ' named v' \n",
    "        print(v)\n",
    "        \n",
    "    func_in()\n",
    "    print(v)\n",
    "    \n",
    "func_out()\n",
    "print(v) "
   ]
  }
 ],
 "metadata": {
  "colab": {
   "authorship_tag": "ABX9TyOU2oWLiejtwfIQsD0Mc2Wt",
   "collapsed_sections": [],
   "name": "Week 10 (Scoping).ipynb",
   "provenance": []
  },
  "kernelspec": {
   "display_name": "Python 3 (ipykernel)",
   "language": "python",
   "name": "python3"
  },
  "language_info": {
   "codemirror_mode": {
    "name": "ipython",
    "version": 3
   },
   "file_extension": ".py",
   "mimetype": "text/x-python",
   "name": "python",
   "nbconvert_exporter": "python",
   "pygments_lexer": "ipython3",
   "version": "3.9.7"
  }
 },
 "nbformat": 4,
 "nbformat_minor": 1
}
