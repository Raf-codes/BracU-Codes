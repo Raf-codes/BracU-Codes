{
 "cells": [
  {
   "cell_type": "code",
   "execution_count": null,
   "metadata": {
    "id": "6o8sPJO5lwZU"
   },
   "outputs": [],
   "source": []
  },
  {
   "cell_type": "code",
   "execution_count": 14,
   "metadata": {
    "executionInfo": {
     "elapsed": 2,
     "status": "ok",
     "timestamp": 1711496790585,
     "user": {
      "displayName": "M. R. RAFI AHMED",
      "userId": "10737456170841759138"
     },
     "user_tz": -360
    },
    "id": "NBMVblKcl5hR"
   },
   "outputs": [],
   "source": [
    "import numpy as np\n",
    "import matplotlib.pyplot as plt\n",
    "from itertools import combinations\n",
    "from numpy.polynomial import Polynomial"
   ]
  },
  {
   "cell_type": "markdown",
   "metadata": {
    "id": "VKi1wCIkmJ5v"
   },
   "source": [
    "Q1. [3 marks] Display a polynomial of appropriate degree which is given below:\n",
    "\n",
    "$(x+6)(x^3-2)(x-1)$\n",
    "\n",
    "**Hints: Use built-in Polynomial class.**\n",
    "\n",
    "Also compute the approximate value of polynomial at x=6.\n",
    "\n"
   ]
  },
  {
   "cell_type": "code",
   "execution_count": 20,
   "metadata": {
    "colab": {
     "base_uri": "https://localhost:8080/",
     "height": 56
    },
    "executionInfo": {
     "elapsed": 516,
     "status": "ok",
     "timestamp": 1711497602660,
     "user": {
      "displayName": "M. R. RAFI AHMED",
      "userId": "10737456170841759138"
     },
     "user_tz": -360
    },
    "id": "oj6RnJoGl5DQ",
    "outputId": "5502adc0-5f5c-440a-b63a-41ec8b97d20b"
   },
   "outputs": [
    {
     "data": {
      "text/latex": [
       "$x \\mapsto \\text{12.0} - \\text{10.0}\\,x - \\text{2.0}\\,x^{2} + \\text{6.0}\\,x^{3} + \\text{5.0}\\,x^{4}$"
      ],
      "text/plain": [
       "Polynomial([ 12., -10.,  -2.,   6.,   5.], domain=[-1,  1], window=[-1,  1], symbol='x')"
      ]
     },
     "metadata": {},
     "output_type": "display_data"
    },
    {
     "name": "stdout",
     "output_type": "stream",
     "text": [
      "7656.0\n"
     ]
    }
   ],
   "source": [
    "#Q1\n",
    "#Use built-in Polynomial class\n",
    "coeff=[12,-10,-2,-6, 5]\n",
    "p=Polynomial(coeff)\n",
    "display(p)\n",
    "\n",
    "x=6\n",
    "value=p(x)\n",
    "print(value)"
   ]
  },
  {
   "cell_type": "markdown",
   "metadata": {
    "id": "1WtaFkRzmL5A"
   },
   "source": [
    "Q2. [3 marks] We know standard format of polynomial of degree 3 :\n",
    "\n",
    "$P(x)= a_0 + a_1x + a_2x^2 + a_3x^3$\n",
    "\n",
    "But you have to create a different version of polynomial which is given below:\n",
    "\n",
    "$P(x)= a_3 + a_2x + a_1x^2 + a_0x^3$\n",
    "\n",
    "Then find approximate value of your created polynomial at x=2\n",
    "\n",
    "Coefficients are given $[a_0,a_1,a_2,a_\n",
    "3]=[2,4,6,8]$"
   ]
  },
  {
   "cell_type": "code",
   "execution_count": 1,
   "metadata": {
    "colab": {
     "base_uri": "https://localhost:8080/"
    },
    "executionInfo": {
     "elapsed": 465,
     "status": "ok",
     "timestamp": 1711495394590,
     "user": {
      "displayName": "M. R. RAFI AHMED",
      "userId": "10737456170841759138"
     },
     "user_tz": -360
    },
    "id": "5DPtCT2an0O0",
    "outputId": "07a5effa-7246-460e-eab9-d531ddaf4f46"
   },
   "outputs": [
    {
     "name": "stdout",
     "output_type": "stream",
     "text": [
      "98\n"
     ]
    }
   ],
   "source": [
    "#Q2\n",
    "coeff=[2,4,6,8]\n",
    "n=3\n",
    "px=0\n",
    "x=2\n",
    "\n",
    "#coeff sum\n",
    "for i in range(n+1):\n",
    "  px+= coeff[i]*x**i\n",
    "\n",
    "print(px)\n",
    "#Ans should be 26"
   ]
  },
  {
   "cell_type": "markdown",
   "metadata": {
    "id": "xf7QCfDpn8Ey"
   },
   "source": [
    "Q3. [3 marks] You all know the formula of Lagrange basis. But Messi created another basis which is called Leo basis. the formula of this basis is given below:\n",
    "\n",
    "\\begin{equation}\n",
    "L_m(x) = \\prod_{j=0,j\\neq m}^{n} \\frac{x-x_j}{(x_m-x_j)^2}\n",
    "\\end{equation}"
   ]
  },
  {
   "cell_type": "code",
   "execution_count": 11,
   "metadata": {
    "executionInfo": {
     "elapsed": 471,
     "status": "ok",
     "timestamp": 1711496386336,
     "user": {
      "displayName": "M. R. RAFI AHMED",
      "userId": "10737456170841759138"
     },
     "user_tz": -360
    },
    "id": "6GAewyr1ooaH"
   },
   "outputs": [],
   "source": [
    "#Q3\n",
    "#node_x means an array of nodes, x means a value, t means a value\n",
    "def leo(m, node_x, x):\n",
    "  L_m=1.0 #initialization\n",
    "  #Use a loop to find basis\n",
    "  for i in range(len(node_x)):\n",
    "    if i!=m:\n",
    "      L_m*= (x-node_x[i])/((node_x[m]-(node_x[i]))**2)\n",
    "\n",
    "\n",
    "\n",
    "\n",
    "  return L_m"
   ]
  },
  {
   "cell_type": "code",
   "execution_count": 12,
   "metadata": {
    "colab": {
     "base_uri": "https://localhost:8080/"
    },
    "executionInfo": {
     "elapsed": 473,
     "status": "ok",
     "timestamp": 1711496388936,
     "user": {
      "displayName": "M. R. RAFI AHMED",
      "userId": "10737456170841759138"
     },
     "user_tz": -360
    },
    "id": "A1jwz18LovB2",
    "outputId": "e5e4a66c-ef38-4734-80fb-61192b7b0b2e"
   },
   "outputs": [
    {
     "name": "stdout",
     "output_type": "stream",
     "text": [
      "7.5\n"
     ]
    }
   ],
   "source": [
    "#Q3\n",
    "#Tester code\n",
    "node_x=[1,2,3,4]\n",
    "x=6\n",
    "print(leo(1,node_x,x))\n",
    "\n"
   ]
  },
  {
   "cell_type": "markdown",
   "metadata": {
    "id": "CeQqITtxpKpO"
   },
   "source": [
    "Q4. [3 marks] Suppose, you have 3 nodes($x_0$, $x_1$, $x_2$). We know standard format of Vandermonde matrix looks like:\n",
    "\n",
    "$$[[x_0^0, x_0^1, x_0^2]$$\n",
    "\n",
    " $$[x_1^0, x_1^1, x_1^2]$$\n",
    "\n",
    " $$[x_2^0, x_2^1, x_2^2]]$$\n",
    "\n",
    " But you have to create a modified version of this matrix which should look like:\n",
    "\n",
    " $$[[x_0^3, x_0^2, x_0^1]$$\n",
    "\n",
    " $$[x_1^3, x_1^2, x_1^1]$$\n",
    "\n",
    "$$[x_2^3, x_2^2, x_2^1]]$$\n"
   ]
  },
  {
   "cell_type": "code",
   "execution_count": 15,
   "metadata": {
    "colab": {
     "base_uri": "https://localhost:8080/"
    },
    "executionInfo": {
     "elapsed": 454,
     "status": "ok",
     "timestamp": 1711496807923,
     "user": {
      "displayName": "M. R. RAFI AHMED",
      "userId": "10737456170841759138"
     },
     "user_tz": -360
    },
    "id": "b1ydjKJhpKHm",
    "outputId": "02a59c25-814e-476c-898b-f5d259a0b0bb"
   },
   "outputs": [
    {
     "name": "stdout",
     "output_type": "stream",
     "text": [
      "[[ 1.  1.  1.]\n",
      " [ 8.  4.  2.]\n",
      " [27.  9.  3.]]\n"
     ]
    }
   ],
   "source": [
    "#Q4\n",
    "nodes = [1,2,3]\n",
    "n = len(nodes)-1\n",
    "\n",
    "#fill up dimention\n",
    "V = np.zeros((3,3))\n",
    "\n",
    "#compute V matrix\n",
    "#your code here\n",
    "for i in range(n+1):\n",
    "  for j in range(n+1):\n",
    "    V[i,j]=nodes[i]**(n-j+1)\n",
    "\n",
    "print(V)\n",
    "\n",
    "#Answer should look like:\n",
    "# [[1,1,1]\n",
    "#  [8,4,2]\n",
    "#  [27,9,3]]"
   ]
  },
  {
   "cell_type": "markdown",
   "metadata": {
    "id": "pvnlyGuZOIK0"
   },
   "source": [
    "Q5. [3 marks] Given the nodes (1,1.2),(3,3.6),(5,6), (11,13.2),\n",
    "\n",
    "Compute the value of F(x) where n+1 is the number of nodes.\n",
    "\n",
    "\\begin{equation}\n",
    "f(x) = \\sum_{i=0}^{n} \\frac{x_i * y_i}{x-x_i}\n",
    "\\end{equation}"
   ]
  },
  {
   "cell_type": "code",
   "execution_count": 23,
   "metadata": {
    "executionInfo": {
     "elapsed": 2,
     "status": "ok",
     "timestamp": 1711497711230,
     "user": {
      "displayName": "M. R. RAFI AHMED",
      "userId": "10737456170841759138"
     },
     "user_tz": -360
    },
    "id": "8bDZMvCFPegW"
   },
   "outputs": [],
   "source": [
    "#Q5\n",
    "data_x = [1,3,5,11]\n",
    "data_y = [1.2,3.6,6,13.2]\n",
    "\n",
    "def func(x):\n",
    "  f=0\n",
    "  for i in range(len(data_x)):\n",
    "    if x!= data_x[i]:\n",
    "      f+=(data_x[i]*data_y[i])/(x-data_x[i])\n",
    "\n",
    "\n",
    "\n",
    "  return f"
   ]
  },
  {
   "cell_type": "code",
   "execution_count": 24,
   "metadata": {
    "colab": {
     "base_uri": "https://localhost:8080/"
    },
    "executionInfo": {
     "elapsed": 3,
     "status": "ok",
     "timestamp": 1711497713864,
     "user": {
      "displayName": "M. R. RAFI AHMED",
      "userId": "10737456170841759138"
     },
     "user_tz": -360
    },
    "id": "clb7tGjaP1rt",
    "outputId": "a105c376-885a-49ff-b4cd-d584b26280ba"
   },
   "outputs": [
    {
     "name": "stdout",
     "output_type": "stream",
     "text": [
      "-18.5\n"
     ]
    }
   ],
   "source": [
    "#Q5\n",
    "#this displayes the answer\n",
    "\n",
    "print(func(5))"
   ]
  }
 ],
 "metadata": {
  "colab": {
   "provenance": [
    {
     "file_id": "1FxRmz14fUyq4DxMwYEGbc_YOzgSw6oyy",
     "timestamp": 1711494892006
    }
   ]
  },
  "kernelspec": {
   "display_name": "Python 3",
   "name": "python3"
  },
  "language_info": {
   "name": "python"
  }
 },
 "nbformat": 4,
 "nbformat_minor": 0
}
