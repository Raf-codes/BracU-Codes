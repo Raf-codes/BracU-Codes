{
  "cells": [
    {
      "cell_type": "markdown",
      "metadata": {
        "id": "nQE6Ea-5bqUI"
      },
      "source": [
        "Derivatives are used in machine learning to solve optimization issues like gradient descent to decide whether to raise or decrease weights when a function approaches its maximum or minimum. This lab will cover how these functions are used in Python***"
      ]
    },
    {
      "cell_type": "markdown",
      "metadata": {
        "id": "OIpG3uEQ3ljt"
      },
      "source": [
        "#Working with one variable only\n"
      ]
    },
    {
      "cell_type": "markdown",
      "metadata": {
        "id": "5pkPOEZzd0cu"
      },
      "source": [
        "*Symbolic differentiation manipulates a given equation, using various rules, to produce the derivative of that equation.*"
      ]
    },
    {
      "cell_type": "code",
      "execution_count": null,
      "metadata": {
        "id": "9TDI--Y98yJ7"
      },
      "outputs": [],
      "source": []
    },
    {
      "cell_type": "code",
      "execution_count": null,
      "metadata": {
        "id": "MdHqB4BvwYRo"
      },
      "outputs": [],
      "source": [
        "#import sympy as sm\n",
        "from sympy import* \n",
        "\n",
        "#Make a symbol\n",
        "\n",
        "x= symbols('x')\n",
        "y= symbols('y')\n",
        "\n",
        "\n",
        "#Write symbolic expression\n",
        "\n",
        "q = 2*x**3+ x**2 + 3*x+ 5\n",
        "\n",
        "#taking the first derivative of the function\n",
        "df= diff(q,x)\n",
        "# #taking the nth derivative of the function (passing the third argument)\n",
        "\n",
        "# df2= diff(y,x,2) \n",
        "\n",
        "# #printing\n",
        "\n",
        "# pprint(df)\n",
        "\n",
        "# print(df2)\n",
        "\n",
        "# # #Substituting values into expression\n",
        "\n",
        "# print(y.subs(x,4))\n",
        "\n",
        "# # print(df.subs(x,4))\n",
        "\n",
        "# # #For evaluating a numerical expression into a floating point number use \"evalf\"\n",
        "\n",
        "# print(y.subs(x,4).evalf())\n",
        "\n"
      ]
    },
    {
      "cell_type": "markdown",
      "metadata": {
        "id": "glPTXBEd3Ntc"
      },
      "source": [
        "#Working with multiple variables\n",
        "\n"
      ]
    },
    {
      "cell_type": "code",
      "execution_count": null,
      "metadata": {
        "colab": {
          "base_uri": "https://localhost:8080/"
        },
        "id": "IWaMkdXZ0IR1",
        "outputId": "937d20d2-af5a-4bc6-c804-bb93d2c778a2"
      },
      "outputs": [
        {
          "name": "stdout",
          "output_type": "stream",
          "text": [
            "3*x**2 + 4*y\n"
          ]
        }
      ],
      "source": [
        "x,y,z= symbols(\"x y z\")\n",
        "\n",
        "expr = x**3 + 4*x*y - z\n",
        "\n",
        "\n",
        "exprValue= expr.subs([(x, 2), (y, 4), (z, 0)]) \n",
        "\n",
        "dfExpr = diff(expr,x) \n",
        "\n",
        "# df2Expr = diff(expr,x,2)\n",
        "\n",
        "# ##printing\n",
        "\n",
        "# print(exprValue)\n",
        "\n",
        "print(dfExpr)\n",
        "\n",
        "# print(df2Expr)"
      ]
    },
    {
      "cell_type": "markdown",
      "metadata": {
        "id": "ZVip02BTIV8k"
      },
      "source": [
        "#The lambdify function\n",
        "\n"
      ]
    },
    {
      "cell_type": "code",
      "execution_count": null,
      "metadata": {
        "colab": {
          "base_uri": "https://localhost:8080/"
        },
        "id": "CedyHECt3KlH",
        "outputId": "145567f4-ee6c-4b23-ef36-146b04f7e292"
      },
      "outputs": [
        {
          "name": "stdout",
          "output_type": "stream",
          "text": [
            "77\n"
          ]
        }
      ],
      "source": [
        "f = 2*x**3+ x**2 + 3*x+ 5\n",
        "\n",
        "f = lambdify(x, f)\n",
        "\n",
        "print(f(3))     \n",
        "\n",
        "#print(f(4))\n",
        "\n",
        "#print(df(3))    "
      ]
    },
    {
      "cell_type": "markdown",
      "metadata": {
        "id": "e9VnYPlhRc11"
      },
      "source": [
        "#The lambdify function create options for evaluating expressions, including using other libraries like NumPy and SciPy."
      ]
    },
    {
      "cell_type": "code",
      "execution_count": null,
      "metadata": {
        "colab": {
          "base_uri": "https://localhost:8080/"
        },
        "id": "t0GJEE2gIkQU",
        "outputId": "2cf42d72-3f1c-4813-bfc0-ed445f7243db"
      },
      "outputs": [
        {
          "name": "stdout",
          "output_type": "stream",
          "text": [
            "[-5 -4 -3 -2 -1  0  1  2  3  4  5]\n",
            "[-235 -119  -49  -13    1    5   11   31   77  161  295]\n"
          ]
        }
      ],
      "source": [
        "import numpy as sp\n",
        "\n",
        "f = 2*x**3+ x**2 + 3*x+ 5\n",
        "\n",
        "var_x = sp.arange(-5,6)\n",
        "\n",
        "print(var_x)\n",
        "\n",
        "f = lambdify(x, f)\n",
        "\n",
        "y=f(var_x)\n",
        "\n",
        "print(y)"
      ]
    },
    {
      "cell_type": "markdown",
      "metadata": {
        "id": "xEyEtGx9omt6"
      },
      "source": [
        "# **If time allows, then let them try to implement the lambdify function for the multiple variables then move to plotting**"
      ]
    },
    {
      "cell_type": "markdown",
      "metadata": {
        "id": "16PcFEgAQoWV"
      },
      "source": [
        "#Plotting the Curve"
      ]
    },
    {
      "cell_type": "code",
      "execution_count": null,
      "metadata": {
        "colab": {
          "base_uri": "https://localhost:8080/",
          "height": 295
        },
        "id": "ld7dJa5_QN3D",
        "outputId": "511ee2d5-f3fc-466e-f1f6-db4e7b29d251"
      },
      "outputs": [
        {
          "data": {
            "image/png": "[encoded data removed]",
            "text/plain": [
              "<Figure size 432x288 with 1 Axes>"
            ]
          },
          "metadata": {
            "needs_background": "light"
          },
          "output_type": "display_data"
        }
      ],
      "source": [
        "\n",
        "# importing the required module\n",
        "import matplotlib.pyplot as plt\n",
        "\n",
        "# plotting the points \n",
        "plt.plot(var_x, y)\n",
        "  \n",
        "# # # # naming the x axis\n",
        "\n",
        "plt.xlabel('x - axis')\n",
        "\n",
        "# # # # # # naming the y axis\n",
        "plt.ylabel('y - axis')\n",
        "  \n",
        "# # # # # giving a title to the graph\n",
        "\n",
        "plt.title('2*x**3+ x**2 + 3*x+ 5')\n",
        "  \n",
        "# # # # Plotting the graph\n",
        "plt.show()"
      ]
    },
    {
      "cell_type": "code",
      "execution_count": null,
      "metadata": {
        "colab": {
          "base_uri": "https://localhost:8080/"
        },
        "id": "YznUf9tkW-L1",
        "outputId": "75014a7e-1154-4005-f51d-f17a6856ad8b"
      },
      "outputs": [
        {
          "name": "stdout",
          "output_type": "stream",
          "text": [
            "[-1/6 - sqrt(17)*I/6, -1/6 + sqrt(17)*I/6]\n",
            "-4.0\n"
          ]
        }
      ],
      "source": [
        "from sympy import*\n",
        "import numpy as np\n",
        "x= symbols('x')\n",
        "f = 2*x**3+x**2 + 3*x+ 5\n",
        "df_1=diff(f,x)\n",
        "solution_x=solve(df_1,x)\n",
        "print(solution_x)\n",
        "f = lambdify(x, f)\n",
        "print(f(-1.5))\n"
      ]
    },
    {
      "cell_type": "code",
      "execution_count": null,
      "metadata": {
        "colab": {
          "base_uri": "https://localhost:8080/",
          "height": 330
        },
        "id": "YKKrYV7VSrHN",
        "outputId": "f7dfffc6-c2f1-44fe-d1b1-afa8b7f8c0fd"
      },
      "outputs": [
        {
          "name": "stdout",
          "output_type": "stream",
          "text": [
            "[-3/2]\n",
            "11/4\n"
          ]
        },
        {
          "data": {
            "image/png": "[encoded data removed]",
            "text/plain": [
              "<Figure size 432x288 with 1 Axes>"
            ]
          },
          "metadata": {
            "needs_background": "light"
          },
          "output_type": "display_data"
        }
      ],
      "source": [
        "from sympy import*\n",
        "import numpy as np\n",
        "import matplotlib.pyplot as plt\n",
        "x= symbols('x')\n",
        "f = x**2 + 3*x+ 5\n",
        "df= diff(f,x)\n",
        "slv=solve(df,x)\n",
        "print(slv)\n",
        "print(f.subs(x,slv[0]))\n",
        "p_x=np.arange(-5,6)\n",
        "f = lambdify(x, f)\n",
        "y=f(p_x)\n",
        "plt.plot(p_x,y)\n",
        "plt.xlabel('x - axis')\n",
        "plt.ylabel('y - axis')\n",
        "plt.title('x**2 + 3*x+ 5')\n",
        "plt.show()"
      ]
    },
    {
      "cell_type": "markdown",
      "metadata": {
        "id": "6xgj0VM1ndKz"
      },
      "source": [
        "**Assignment1** \n",
        "Plot the following functions and \n",
        "Find the minima and maxima of the following functions at a given interval \n",
        "\n",
        "1. y= x**3−x**2-x in the interval [-5, 6]\n",
        "2. y= ln x [-5, 6]\n",
        "3. y= sin x [-5, 6]\n",
        "4. y= cos x [-5, 6]\n",
        "5. y= tan x [-5, 6]\n"
      ]
    },
    {
      "cell_type": "code",
      "execution_count": null,
      "metadata": {
        "colab": {
          "base_uri": "https://localhost:8080/",
          "height": 404
        },
        "id": "xKwNql7REzrr",
        "outputId": "27887527-973c-426a-f0e4-4bf78a2da515"
      },
      "outputs": [
        {
          "name": "stdout",
          "output_type": "stream",
          "text": [
            "first differentiation: 3*x**2 - 2*x - 1\n",
            "if equation=0, x is : [-1/3, 1]\n",
            "Second differentiation : 6*x - 2\n",
            "################################\n",
            "Maxima will be found at -1/3\n",
            "Maxima: 5/27\n",
            "Minima will be found at 1\n",
            "maxima -1\n"
          ]
        },
        {
          "data": {
            "image/png": "[encoded data removed]",
            "text/plain": [
              "<Figure size 432x288 with 1 Axes>"
            ]
          },
          "metadata": {
            "needs_background": "light"
          },
          "output_type": "display_data"
        }
      ],
      "source": [
        "#Your code here for problem 1\n",
        "from sympy import*\n",
        "import numpy as np\n",
        "import matplotlib.pyplot as plt\n",
        "x= symbols('x')\n",
        "y= symbols('y')\n",
        "f=x**3-x**2-x\n",
        "\n",
        "d=diff(f,x)\n",
        "s=solve(d,x)\n",
        "d2=diff(d,x)\n",
        "print(\"first differentiation:\",d)\n",
        "print(\"if equation=0, x is :\",s)\n",
        "print(\"Second differentiation :\",d2)\n",
        "a=len(s)\n",
        "print(\"################################\")\n",
        "a=len(s)\n",
        "for i in range(a):\n",
        "    result=d2.subs(x,float(s[i]))\n",
        "    if result<0:\n",
        "        print(\"Maxima will be found at\" ,s[i])\n",
        "        maxima=f.subs(x,s[i])\n",
        "        print(\"Maxima:\",maxima)\n",
        "    elif result>0:\n",
        "        print(\"Minima will be found at\", s[i])\n",
        "        minima=f.subs(x,s[i])\n",
        "        print(\"Minima:\",minima)  \n",
        "p_x=np.arange(-5,6)\n",
        "f = lambdify(x, f)\n",
        "y=f(p_x)\n",
        "plt.plot(p_x,y)\n",
        "plt.show()  "
      ]
    },
    {
      "cell_type": "code",
      "execution_count": null,
      "metadata": {
        "colab": {
          "base_uri": "https://localhost:8080/",
          "height": 387
        },
        "id": "yx5SZpGzEz7K",
        "outputId": "84023f9a-70ec-4a88-db62-c655a5a55f9c"
      },
      "outputs": [
        {
          "name": "stdout",
          "output_type": "stream",
          "text": [
            "first differentiation : 1/x\n",
            "if equation=0, x is : []\n",
            "Second differentiation : -1/x**2\n",
            "################################\n",
            "NO maxima minin a found\n"
          ]
        },
        {
          "name": "stderr",
          "output_type": "stream",
          "text": [
            "<string>:2: RuntimeWarning: divide by zero encountered in log\n",
            "<string>:2: RuntimeWarning: invalid value encountered in log\n"
          ]
        },
        {
          "data": {
            "image/png": "[encoded data removed]",
            "text/plain": [
              "<Figure size 432x288 with 1 Axes>"
            ]
          },
          "metadata": {
            "needs_background": "light"
          },
          "output_type": "display_data"
        }
      ],
      "source": [
        "#Your code here for problem 2\n",
        "from sympy import*\n",
        "import numpy as np\n",
        "import matplotlib.pyplot as plt\n",
        "x= symbols('x')\n",
        "y= symbols('y')\n",
        "f=ln(x)\n",
        "\n",
        "d=diff(f,x)\n",
        "s=solve(d,x)\n",
        "d2=diff(d,x)\n",
        "print(\"first differentiation :\",d)\n",
        "print(\"if equation=0, x is :\",s)\n",
        "print(\"Second differentiation :\",d2)\n",
        "print(\"################################\")\n",
        "a=len(s)\n",
        "if a==0:\n",
        "  print(\"NO maxima minin a found\")\n",
        "for i in range(a):\n",
        "    result=d2.subs(x,float(s[i]))\n",
        "    if result<0:\n",
        "        print(\"Maxima will be found at\" ,s[i])\n",
        "        maxima=f.subs(x,s[i])\n",
        "        print(maxima)\n",
        "    elif result>0:\n",
        "        print(\"Minima will be found at\", s[i])\n",
        "        minima=f.subs(x,s[i])\n",
        "        print(minima) \n",
        "p_x=np.arange(-5,6)\n",
        "f = lambdify(x, f)\n",
        "y=f(p_x)\n",
        "plt.plot(p_x,y)\n",
        "plt.show()"
      ]
    },
    {
      "cell_type": "code",
      "execution_count": null,
      "metadata": {
        "colab": {
          "base_uri": "https://localhost:8080/",
          "height": 404
        },
        "id": "EC_xChd0E0CS",
        "outputId": "76a83e6f-bb47-4cd1-abe2-aae011f09d8a"
      },
      "outputs": [
        {
          "name": "stdout",
          "output_type": "stream",
          "text": [
            "first differentiation: cos(x)\n",
            "if equation=0, x is : [pi/2, 3*pi/2]\n",
            "Second differentiation : -sin(x)\n",
            "################################\n",
            "Maxima will be found at pi/2\n",
            "maxima 1\n",
            "Minima will be found at 3*pi/2\n",
            "Minima: -1\n"
          ]
        },
        {
          "data": {
            "image/png": "[encoded data removed]",
            "text/plain": [
              "<Figure size 432x288 with 1 Axes>"
            ]
          },
          "metadata": {
            "needs_background": "light"
          },
          "output_type": "display_data"
        }
      ],
      "source": [
        "#Your code here for problem 3\n",
        "from sympy import*\n",
        "import numpy as np\n",
        "import matplotlib.pyplot as plt\n",
        "x= symbols('x')\n",
        "y= symbols('y')\n",
        "f=sin(x)\n",
        "\n",
        "d=diff(f,x)\n",
        "s=solve(d,x)\n",
        "d2=diff(d,x)\n",
        "print(\"first differentiation:\",d)\n",
        "print(\"if equation=0, x is :\",s)\n",
        "print(\"Second differentiation :\",d2)\n",
        "a=len(s)\n",
        "print(\"################################\")\n",
        "for i in range(a):\n",
        "    result=d2.subs(x,float(s[i]))\n",
        "    if result<0:\n",
        "        print(\"Maxima will be found at\" ,s[i])\n",
        "        maxima=f.subs(x,s[i])\n",
        "        print(\"maxima:\",maxima)\n",
        "    elif result>0:\n",
        "        print(\"Minima will be found at\", s[i])\n",
        "        minima=f.subs(x,s[i])\n",
        "        print('Minima:',minima)\n",
        "p_x=np.arange(-5,6)\n",
        "f = lambdify(x, f)\n",
        "y=f(p_x)\n",
        "plt.plot(p_x,y)\n",
        "plt.show()"
      ]
    },
    {
      "cell_type": "code",
      "execution_count": null,
      "metadata": {
        "colab": {
          "base_uri": "https://localhost:8080/",
          "height": 404
        },
        "id": "mS6K9XyTE0LD",
        "outputId": "24eb1092-a2f2-4962-e4f0-6b50db5af713"
      },
      "outputs": [
        {
          "name": "stdout",
          "output_type": "stream",
          "text": [
            "first differentiation: -sin(x)\n",
            "if equation=0, x is : [0, pi]\n",
            "Second differentiation : -cos(x)\n",
            "################################\n",
            "Maxima will be found at 0\n",
            "Maxima: 1\n",
            "Minima will be found at pi\n",
            "Minima: -1\n"
          ]
        },
        {
          "data": {
            "image/png": "[encoded data removed]",
            "text/plain": [
              "<Figure size 432x288 with 1 Axes>"
            ]
          },
          "metadata": {
            "needs_background": "light"
          },
          "output_type": "display_data"
        }
      ],
      "source": [
        "#Your code here for problem 4\n",
        "from sympy import*\n",
        "import numpy as np\n",
        "import matplotlib.pyplot as plt\n",
        "x= symbols('x')\n",
        "y= symbols('y')\n",
        "f=cos(x)\n",
        "\n",
        "d=diff(f,x)\n",
        "s=solve(d,x)\n",
        "d2=diff(d,x)\n",
        "print(\"first differentiation:\",d)\n",
        "print(\"if equation=0, x is :\",s)\n",
        "print(\"Second differentiation :\",d2)\n",
        "a=len(s)\n",
        "print(\"################################\")\n",
        "a=len(s)\n",
        "for i in range(a):\n",
        "    result=d2.subs(x,float(s[i]))\n",
        "    if result<0:\n",
        "        print(\"Maxima will be found at\" ,s[i])\n",
        "        maxima=f.subs(x,s[i])\n",
        "        print(\"Maxima:\",maxima)\n",
        "    elif result>0:\n",
        "        print(\"Minima will be found at\", s[i])\n",
        "        minima=f.subs(x,s[i])\n",
        "        print(\"Minima:\",minima) \n",
        "p_x=np.arange(-5,6)\n",
        "f = lambdify(x, f)\n",
        "y=f(p_x)\n",
        "plt.plot(p_x,y)\n",
        "plt.show()"
      ]
    },
    {
      "cell_type": "code",
      "execution_count": null,
      "metadata": {
        "colab": {
          "base_uri": "https://localhost:8080/",
          "height": 352
        },
        "id": "xebtMWY9E0VB",
        "outputId": "6622e622-d7fe-4cd6-fe8c-9ba2288f521a"
      },
      "outputs": [
        {
          "name": "stdout",
          "output_type": "stream",
          "text": [
            "first differentiation : tan(x)**2 + 1\n",
            "if equation=0, x is : []\n",
            "Second differentiation : (2*tan(x)**2 + 2)*tan(x)\n",
            "################################\n",
            "NO maxima minin a found\n"
          ]
        },
        {
          "data": {
            "image/png": "[encoded data removed]",
            "text/plain": [
              "<Figure size 432x288 with 1 Axes>"
            ]
          },
          "metadata": {
            "needs_background": "light"
          },
          "output_type": "display_data"
        }
      ],
      "source": [
        "#Your code here for problem 5\n",
        "from sympy import*\n",
        "import numpy as np\n",
        "import matplotlib.pyplot as plt\n",
        "x= symbols('x')\n",
        "y= symbols('y')\n",
        "f=tan(x)\n",
        "\n",
        "d=diff(f,x)\n",
        "s=solve(d,x)\n",
        "d2=diff(d,x)\n",
        "print(\"first differentiation :\",d)\n",
        "print(\"if equation=0, x is :\",s)\n",
        "print(\"Second differentiation :\",d2)\n",
        "print(\"################################\")\n",
        "a=len(s)\n",
        "if a==0:\n",
        "  print(\"NO maxima minin a found\")\n",
        "for i in range(a):\n",
        "    result=d2.subs(x,float(s[i]))\n",
        "    if result<0:\n",
        "        print(\"Maxima will be found at\" ,s[i])\n",
        "        maxima=f.subs(x,s[i])\n",
        "        print(maxima)\n",
        "    elif result>0:\n",
        "        print(\"Minima will be found at\", s[i])\n",
        "        minima=f.subs(x,s[i])\n",
        "        print(minima) \n",
        "p_x=np.arange(-5,6)\n",
        "f = lambdify(x, f)\n",
        "y=f(p_x)\n",
        "plt.plot(p_x,y)\n",
        "plt.show()"
      ]
    }
  ],
  "metadata": {
    "colab": {
      "provenance": []
    },
    "kernelspec": {
      "display_name": "Python 3",
      "name": "python3"
    },
    "language_info": {
      "name": "python"
    }
  },
  "nbformat": 4,
  "nbformat_minor": 0
}
