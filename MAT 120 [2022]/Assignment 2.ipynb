{
 "cells": [
  {
   "cell_type": "code",
   "execution_count": null,
   "metadata": {
    "id": "ikPGoci3hEC0"
   },
   "outputs": [],
   "source": []
  },
  {
   "cell_type": "markdown",
   "metadata": {
    "id": "lxjkhLIzvBUa"
   },
   "source": [
    "# **INTEGRAL**"
   ]
  },
  {
   "cell_type": "code",
   "execution_count": null,
   "metadata": {
    "id": "p0fyapqTwFPW"
   },
   "outputs": [],
   "source": [
    "import sympy as smp\n",
    "import numpy as np\n",
    "\n",
    "import scipy as sp\n",
    "from scipy.integrate import quad"
   ]
  },
  {
   "cell_type": "markdown",
   "metadata": {
    "id": "156rT1jDxZoA"
   },
   "source": [
    "## **Solvable Integrals**"
   ]
  },
  {
   "cell_type": "markdown",
   "metadata": {
    "id": "EvVXhVHlyFcn"
   },
   "source": [
    "**Example 1:**\n",
    "\n"
   ]
  },
  {
   "cell_type": "markdown",
   "metadata": {
    "id": "PsX1pr0h-c4E"
   },
   "source": [
    "![120.1.PNG](data:image/png;base64,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)"
   ]
  },
  {
   "cell_type": "code",
   "execution_count": null,
   "metadata": {
    "colab": {
     "base_uri": "https://localhost:8080/",
     "height": 54
    },
    "id": "LPnYQrcA0CtP",
    "outputId": "0dd5e1c7-db03-4d25-fb1f-89d7109b1d86"
   },
   "outputs": [
    {
     "data": {
      "text/latex": [
       "$\\displaystyle \\frac{x^{2} e^{- x} \\sin{\\left(x \\right)}}{2} - \\frac{x^{2} e^{- x} \\cos{\\left(x \\right)}}{2} + x e^{- x} \\sin{\\left(x \\right)} + \\frac{e^{- x} \\sin{\\left(x \\right)}}{2} + \\frac{e^{- x} \\cos{\\left(x \\right)}}{2}$"
      ],
      "text/plain": [
       "x**2*exp(-x)*sin(x)/2 - x**2*exp(-x)*cos(x)/2 + x*exp(-x)*sin(x) + exp(-x)*sin(x)/2 + exp(-x)*cos(x)/2"
      ]
     },
     "execution_count": 3,
     "metadata": {},
     "output_type": "execute_result"
    }
   ],
   "source": [
    "import sympy as smp\n",
    "import numpy as np\n",
    "\n",
    "import scipy as sp\n",
    "from scipy.integrate import quad\n",
    "\n",
    "x = smp.symbols(\"x\")\n",
    "f= smp.exp(-x)*(x**2)*smp.cos(x)\n",
    "smp.integrate(f)"
   ]
  },
  {
   "cell_type": "code",
   "execution_count": null,
   "metadata": {
    "colab": {
     "background_save": true,
     "base_uri": "https://localhost:8080/",
     "height": 57
    },
    "id": "BlF-HKbr1OoR",
    "outputId": "f91cc3f8-4690-40ba-fb9c-f119c7f1e776"
   },
   "outputs": [
    {
     "data": {
      "text/latex": [
       "$\\displaystyle \\frac{\\sqrt{2} \\left(- x^{2} \\cos{\\left(x + \\frac{\\pi}{4} \\right)} + x \\sin{\\left(x + \\frac{\\pi}{4} \\right)} - x \\cos{\\left(x + \\frac{\\pi}{4} \\right)} + \\sin{\\left(x + \\frac{\\pi}{4} \\right)}\\right) e^{- x}}{2}$"
      ],
      "text/plain": [
       "sqrt(2)*(-x**2*cos(x + pi/4) + x*sin(x + pi/4) - x*cos(x + pi/4) + sin(x + pi/4))*exp(-x)/2"
      ]
     },
     "execution_count": null,
     "metadata": {},
     "output_type": "execute_result"
    }
   ],
   "source": [
    "smp.integrate(f,x).simplify() # for simplifying the answer"
   ]
  },
  {
   "cell_type": "markdown",
   "metadata": {
    "id": "w2-ECZcP12Qb"
   },
   "source": [
    "\n",
    "\n",
    "**Example 2:**\n",
    "\n",
    "\n"
   ]
  },
  {
   "cell_type": "markdown",
   "metadata": {
    "id": "l6FzWCyT-HWd"
   },
   "source": [
    "![120.3.PNG](data:image/png;base64,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)"
   ]
  },
  {
   "cell_type": "code",
   "execution_count": null,
   "metadata": {
    "colab": {
     "base_uri": "https://localhost:8080/",
     "height": 55
    },
    "id": "HE-xAqU23ByP",
    "outputId": "74a243af-19ca-4afc-a8e4-1c0281ef55ed"
   },
   "outputs": [
    {
     "data": {
      "text/latex": [
       "$\\displaystyle - \\frac{40 e^{- 5 x} \\sin^{3}{\\left(x \\right)}}{221} - \\frac{21 e^{- 5 x} \\sin^{2}{\\left(x \\right)} \\cos{\\left(x \\right)}}{221} - \\frac{15 e^{- 5 x} \\sin{\\left(x \\right)} \\cos^{2}{\\left(x \\right)}}{442} - \\frac{3 e^{- 5 x} \\cos^{3}{\\left(x \\right)}}{442}$"
      ],
      "text/plain": [
       "-40*exp(-5*x)*sin(x)**3/221 - 21*exp(-5*x)*sin(x)**2*cos(x)/221 - 15*exp(-5*x)*sin(x)*cos(x)**2/442 - 3*exp(-5*x)*cos(x)**3/442"
      ]
     },
     "execution_count": 4,
     "metadata": {},
     "output_type": "execute_result"
    }
   ],
   "source": [
    "#Class Task\n",
    "x = smp.symbols(\"x\")\n",
    "f = smp.sin(x)**3*smp.exp(-5*x)\n",
    "smp.integrate(f, x)"
   ]
  },
  {
   "cell_type": "code",
   "execution_count": null,
   "metadata": {
    "colab": {
     "base_uri": "https://localhost:8080/",
     "height": 54
    },
    "id": "ICA2etw13gXY",
    "outputId": "cb53fde9-f3bc-4152-9631-a7d98a0754d6"
   },
   "outputs": [
    {
     "data": {
      "text/latex": [
       "$\\displaystyle \\frac{\\left(- 255 \\sin{\\left(x \\right)} + 65 \\sin{\\left(3 x \\right)} - 51 \\cos{\\left(x \\right)} + 39 \\cos{\\left(3 x \\right)}\\right) e^{- 5 x}}{1768}$"
      ],
      "text/plain": [
       "(-255*sin(x) + 65*sin(3*x) - 51*cos(x) + 39*cos(3*x))*exp(-5*x)/1768"
      ]
     },
     "execution_count": 6,
     "metadata": {},
     "output_type": "execute_result"
    }
   ],
   "source": [
    "smp.integrate(f,x).simplify() # for simplifying the answer"
   ]
  },
  {
   "cell_type": "markdown",
   "metadata": {
    "id": "hCrMC9-Y4gis"
   },
   "source": [
    "**Example 3:**"
   ]
  },
  {
   "cell_type": "markdown",
   "metadata": {
    "id": "NWoyKhXe9-GX"
   },
   "source": [
    "![1202.PNG](data:image/png;base64,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)"
   ]
  },
  {
   "cell_type": "code",
   "execution_count": null,
   "metadata": {
    "colab": {
     "base_uri": "https://localhost:8080/",
     "height": 56
    },
    "id": "JcrTjJVt5o2g",
    "outputId": "a2c6c884-19d4-493a-bc44-6c05098adc28"
   },
   "outputs": [
    {
     "data": {
      "text/latex": [
       "$\\displaystyle \\frac{3 \\sqrt{x} \\sqrt[3]{\\sqrt{x} + 1}}{2} + \\frac{3 \\sqrt[3]{\\sqrt{x} + 1}}{2}$"
      ],
      "text/plain": [
       "3*sqrt(x)*(sqrt(x) + 1)**(1/3)/2 + 3*(sqrt(x) + 1)**(1/3)/2"
      ]
     },
     "execution_count": 6,
     "metadata": {},
     "output_type": "execute_result"
    }
   ],
   "source": [
    "#Class Task\n",
    "\n",
    "x = smp.symbols(\"x\")\n",
    "f = (1+smp.sqrt(x))**smp.Rational(1,3)/ smp.sqrt(x)\n",
    "smp.integrate(f, x)"
   ]
  },
  {
   "cell_type": "markdown",
   "metadata": {
    "id": "cKA5wR4k8_YI"
   },
   "source": [
    "**Example 4:** (Definite) Integral with limits"
   ]
  },
  {
   "cell_type": "markdown",
   "metadata": {
    "id": "d8szRrol7MBS"
   },
   "source": [
    " ![120.PNG](data:image/png;base64,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)"
   ]
  },
  {
   "cell_type": "code",
   "execution_count": null,
   "metadata": {
    "colab": {
     "base_uri": "https://localhost:8080/",
     "height": 38
    },
    "id": "N39gsPGM8zSv",
    "outputId": "f9cee609-9063-4b6d-9478-3d949b39ec37"
   },
   "outputs": [
    {
     "data": {
      "text/latex": [
       "$\\displaystyle - 2 \\sqrt{10} + 2 \\sqrt{13}$"
      ],
      "text/plain": [
       "-2*sqrt(10) + 2*sqrt(13)"
      ]
     },
     "execution_count": 7,
     "metadata": {},
     "output_type": "execute_result"
    }
   ],
   "source": [
    "f = smp.exp(x) / (smp.sqrt(smp.exp(x)+9))\n",
    "smp.integrate(f, (x, 0, smp.ln(4))) ###"
   ]
  },
  {
   "cell_type": "code",
   "execution_count": null,
   "metadata": {
    "colab": {
     "base_uri": "https://localhost:8080/",
     "height": 37
    },
    "id": "xWzvpx6j_b4C",
    "outputId": "200c0ada-661d-4ced-cfe4-73045df1dd45"
   },
   "outputs": [
    {
     "data": {
      "text/latex": [
       "$\\displaystyle 0.88654723059122$"
      ],
      "text/plain": [
       "0.886547230591220"
      ]
     },
     "execution_count": 19,
     "metadata": {},
     "output_type": "execute_result"
    }
   ],
   "source": [
    "smp.integrate(f, (x, 0, smp.log(4))).evalf()"
   ]
  },
  {
   "cell_type": "markdown",
   "metadata": {
    "id": "Tj_NCuKA_zpf"
   },
   "source": [
    "## **Unsolvable Integrals**"
   ]
  },
  {
   "cell_type": "markdown",
   "metadata": {
    "id": "E0jQ0WeOA5hq"
   },
   "source": [
    "**Example 5:**"
   ]
  },
  {
   "cell_type": "markdown",
   "metadata": {
    "id": "6xva8mcxBFn6"
   },
   "source": [
    "![120.34.PNG](data:image/png;base64,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)"
   ]
  },
  {
   "cell_type": "code",
   "execution_count": null,
   "metadata": {
    "colab": {
     "base_uri": "https://localhost:8080/",
     "height": 80
    },
    "id": "ddooiDNzCdz7",
    "outputId": "521bc2a5-68ff-469a-82f7-0da7a647c113"
   },
   "outputs": [
    {
     "data": {
      "text/latex": [
       "$\\displaystyle \\int\\limits_{1}^{2} e^{- \\sin{\\left(x \\right)}}\\, dx$"
      ],
      "text/plain": [
       "Integral(exp(-sin(x)), (x, 1, 2))"
      ]
     },
     "execution_count": 9,
     "metadata": {},
     "output_type": "execute_result"
    }
   ],
   "source": [
    "#it won't work in sympy\n",
    "f= smp.exp(smp.sin(-x))\n",
    "smp.integrate(f, (x, 1, 2))\n"
   ]
  },
  {
   "cell_type": "markdown",
   "metadata": {
    "id": "-6DVeXkKD15f"
   },
   "source": [
    "we use scipy quad function to integrate numerically"
   ]
  },
  {
   "cell_type": "code",
   "execution_count": null,
   "metadata": {
    "colab": {
     "base_uri": "https://localhost:8080/"
    },
    "id": "X9oakftoD_Ke",
    "outputId": "cd814b25-a198-4ea4-dc7c-b146792dae16"
   },
   "outputs": [
    {
     "name": "stdout",
     "output_type": "stream",
     "text": [
      "0.3845918142796868\n"
     ]
    }
   ],
   "source": [
    "f = lambda x: np.exp(-np.sin(x))\n",
    "x=quad (f, 1, 2)\n",
    "print(x[0])"
   ]
  },
  {
   "cell_type": "markdown",
   "metadata": {
    "id": "TRYL060A1WIr"
   },
   "source": [
    "Assignment 2\n",
    "problem Solve"
   ]
  },
  {
   "cell_type": "code",
   "execution_count": null,
   "metadata": {
    "colab": {
     "base_uri": "https://localhost:8080/",
     "height": 127
    },
    "id": "C3P0TW_D0obl",
    "outputId": "44bcefa9-1460-4c61-87f5-704f8e979631"
   },
   "outputs": [
    {
     "data": {
      "text/latex": [
       "$\\displaystyle \\begin{cases} 0 & \\text{for}\\: a = 0 \\wedge b = 0 \\\\- i \\left(\\frac{x e^{- b x} \\sinh{\\left(b x \\right)}}{2} + \\frac{x e^{- b x} \\cosh{\\left(b x \\right)}}{2} - \\frac{e^{- b x} \\sinh{\\left(b x \\right)}}{2 b}\\right) & \\text{for}\\: a = - i b \\\\i \\left(\\frac{x e^{- b x} \\sinh{\\left(b x \\right)}}{2} + \\frac{x e^{- b x} \\cosh{\\left(b x \\right)}}{2} - \\frac{e^{- b x} \\sinh{\\left(b x \\right)}}{2 b}\\right) & \\text{for}\\: a = i b \\\\- \\frac{a \\cos{\\left(a x \\right)}}{a^{2} e^{b x} + b^{2} e^{b x}} - \\frac{b \\sin{\\left(a x \\right)}}{a^{2} e^{b x} + b^{2} e^{b x}} & \\text{otherwise} \\end{cases}$"
      ],
      "text/plain": [
       "Piecewise((0, Eq(a, 0) & Eq(b, 0)), (-I*(x*exp(-b*x)*sinh(b*x)/2 + x*exp(-b*x)*cosh(b*x)/2 - exp(-b*x)*sinh(b*x)/(2*b)), Eq(a, -I*b)), (I*(x*exp(-b*x)*sinh(b*x)/2 + x*exp(-b*x)*cosh(b*x)/2 - exp(-b*x)*sinh(b*x)/(2*b)), Eq(a, I*b)), (-a*cos(a*x)/(a**2*exp(b*x) + b**2*exp(b*x)) - b*sin(a*x)/(a**2*exp(b*x) + b**2*exp(b*x)), True))"
      ]
     },
     "execution_count": 6,
     "metadata": {},
     "output_type": "execute_result"
    }
   ],
   "source": [
    "#your code here for problem 1\n",
    "import sympy as smp\n",
    "x,a,b = smp.symbols('x a b')\n",
    "f = smp.sin(a*x)*smp.exp(-b*x)\n",
    "smp.integrate(f, x)"
   ]
  },
  {
   "cell_type": "code",
   "execution_count": null,
   "metadata": {
    "colab": {
     "base_uri": "https://localhost:8080/"
    },
    "id": "HkKoT5ja8iMX",
    "outputId": "8c152eb5-0aa5-4c68-b41e-985ac73ab11a"
   },
   "outputs": [
    {
     "name": "stderr",
     "output_type": "stream",
     "text": [
      "/usr/local/lib/python3.7/dist-packages/ipykernel_launcher.py:7: RuntimeWarning: invalid value encountered in arcsin\n",
      "  import sys\n",
      "/usr/local/lib/python3.7/dist-packages/ipykernel_launcher.py:8: IntegrationWarning: The occurrence of roundoff error is detected, which prevents \n",
      "  the requested tolerance from being achieved.  The error may be \n",
      "  underestimated.\n",
      "  \n"
     ]
    },
    {
     "data": {
      "text/plain": [
       "(nan, nan)"
      ]
     },
     "execution_count": 5,
     "metadata": {},
     "output_type": "execute_result"
    }
   ],
   "source": [
    "#your code here for problem 2\n",
    "import numpy as np\n",
    "import scipy as sp\n",
    "import sympy as smp\n",
    "from scipy.integrate import quad\n",
    "x = smp.symbols(\"x\")\n",
    "f= lambda x: (np.arcsin(2*x))/(1+x**2)\n",
    "quad(f,0,smp.oo)"
   ]
  },
  {
   "cell_type": "code",
   "execution_count": null,
   "metadata": {
    "id": "YTX0DRtLiM6R"
   },
   "outputs": [],
   "source": [
    "#your code here for problem 3\n",
    "import sympy as smp\n",
    "x,a,b = smp.symbols('x a b')\n",
    "f = 1/(((a-smp.cos(x))**2+(b-smp.sin(x))**2))\n",
    "smp.integrate(f,(x,0, 2*smp.pi))"
   ]
  },
  {
   "cell_type": "code",
   "execution_count": null,
   "metadata": {
    "colab": {
     "base_uri": "https://localhost:8080/"
    },
    "id": "lNzgG08N14Pb",
    "outputId": "33e41484-e9ba-4772-ca7c-5f29975f434d"
   },
   "outputs": [
    {
     "name": "stderr",
     "output_type": "stream",
     "text": [
      "/usr/local/lib/python3.7/dist-packages/ipykernel_launcher.py:7: RuntimeWarning: invalid value encountered in arccos\n",
      "  import sys\n",
      "/usr/local/lib/python3.7/dist-packages/ipykernel_launcher.py:8: IntegrationWarning: The occurrence of roundoff error is detected, which prevents \n",
      "  the requested tolerance from being achieved.  The error may be \n",
      "  underestimated.\n",
      "  \n"
     ]
    },
    {
     "data": {
      "text/plain": [
       "(nan, nan)"
      ]
     },
     "execution_count": 4,
     "metadata": {},
     "output_type": "execute_result"
    }
   ],
   "source": [
    "#your code here for problem 4\n",
    "import numpy as np\n",
    "import scipy as sp\n",
    "import sympy as smp\n",
    "from scipy.integrate import quad\n",
    "x = smp.symbols(\"x\")\n",
    "f= lambda x: (np.arccos(2*x))/(1+x**2)\n",
    "quad(f,0,smp.oo)"
   ]
  },
  {
   "cell_type": "code",
   "execution_count": null,
   "metadata": {
    "colab": {
     "base_uri": "https://localhost:8080/",
     "height": 54
    },
    "id": "hAxOmzbD1zZV",
    "outputId": "4621e142-0162-474b-b963-ce1cef94c6a6"
   },
   "outputs": [
    {
     "data": {
      "text/latex": [
       "$\\displaystyle \\frac{7}{36 e^{6}} + \\frac{11 e^{12}}{36}$"
      ],
      "text/plain": [
       "7*exp(-6)/36 + 11*exp(12)/36"
      ]
     },
     "execution_count": 2,
     "metadata": {},
     "output_type": "execute_result"
    }
   ],
   "source": [
    "#your code here for problem 5\n",
    "import sympy as smp\n",
    "import numpy as np\n",
    "x = smp.symbols(\"x\")\n",
    "f = x*smp.exp(6*x)\n",
    "smp.integrate(f, (x,-1,2))"
   ]
  }
 ],
 "metadata": {
  "colab": {
   "provenance": []
  },
  "kernelspec": {
   "display_name": "Python 3",
   "name": "python3"
  },
  "language_info": {
   "name": "python"
  }
 },
 "nbformat": 4,
 "nbformat_minor": 0
}
