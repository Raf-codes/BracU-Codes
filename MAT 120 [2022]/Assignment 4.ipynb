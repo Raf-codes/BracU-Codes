{
  "nbformat": 4,
  "nbformat_minor": 0,
  "metadata": {
    "colab": {
      "provenance": []
    },
    "kernelspec": {
      "name": "python3",
      "display_name": "Python 3"
    },
    "language_info": {
      "name": "python"
    }
  },
  "cells": [
    {
      "cell_type": "markdown",
      "source": [
        "**Reference model**\n",
        "\n",
        "\\begin{cases} y'' + a y' + b y= f(x) \\\\ y(0)= y_0 \\\\ y'(0)= y_0'\\end{cases}\n",
        "\n",
        "*Example*\n",
        "\n",
        "**Differential equation:**\n",
        "\n",
        "\\begin{cases} y'' + 9y = 0\\,, \\\\ y\\left({\\pi\\over 4}\\right)= 0\\,, \\\\ y'\\left({\\pi\\over 4}\\right)= 3\\sqrt{2}\\,.\\end{cases}\n",
        "\n",
        "\n",
        "**General solution:**\n",
        "\n",
        "y =\n",
        "​\n",
        " C1 cos(3x)+C2 sin(3x)\n",
        "  \n",
        "\n",
        "**​Solution (with initial condition):**\n",
        "\n",
        "y= − cos(3x) − sin(3x)\n",
        " \n",
        "\n",
        "\n",
        "\n",
        "​\n",
        " \n",
        "\n"
      ],
      "metadata": {
        "id": "c9yhEAufcJAB"
      }
    },
    {
      "cell_type": "markdown",
      "source": [
        "**Initialization and symbolic variables**"
      ],
      "metadata": {
        "id": "i0hvZhgOd35h"
      }
    },
    {
      "cell_type": "code",
      "execution_count": null,
      "metadata": {
        "id": "zcY_qDkIbXk3"
      },
      "outputs": [],
      "source": [
        "#Importing Symbolic library and its initialization\n",
        "\n",
        "import sympy as sy\n",
        "\n",
        "\n",
        "#Some common variables declaration\n",
        "\n",
        "x = sy.symbols('x')\n",
        "\n",
        "y = sy.Function('y')\n",
        "\n",
        "y1 = sy.Derivative(y(x), x)\n",
        "\n",
        "y2 = sy.Derivative(y(x), x, x)"
      ]
    },
    {
      "cell_type": "markdown",
      "source": [
        "**General solution**"
      ],
      "metadata": {
        "id": "xx1t1C-id71v"
      }
    },
    {
      "cell_type": "code",
      "source": [
        "#General solution without the initial value\n",
        "\n",
        "#Definiting the expression\n",
        "\n",
        "eqdiff = y2 + 9*y(x)\n",
        "\n",
        "#Solution\n",
        "\n",
        "eq=sy.dsolve(eqdiff, y(x))\n",
        "\n",
        "sy.pprint(eq)"
      ],
      "metadata": {
        "colab": {
          "base_uri": "https://localhost:8080/"
        },
        "id": "c5b-Mkbad-8S",
        "outputId": "b21ef3a2-5a64-4ef1-976f-f7c323205edc"
      },
      "execution_count": null,
      "outputs": [
        {
          "output_type": "stream",
          "name": "stdout",
          "text": [
            "y(x) = C₁⋅sin(3⋅x) + C₂⋅cos(3⋅x)\n"
          ]
        }
      ]
    },
    {
      "cell_type": "markdown",
      "source": [
        "**Solution with the initial condition**"
      ],
      "metadata": {
        "id": "Ru9IfFWheBNP"
      }
    },
    {
      "cell_type": "code",
      "source": [
        "#Solution with the given initial condition\n",
        "\n",
        "x0 = sy.pi/4\n",
        "sol = sy.dsolve(eqdiff, y(x), ics={y(x0): 0, y(x).diff(x).subs(x, x0): 3*sy.sqrt(2)})\n",
        "sy.pprint(sol)"
      ],
      "metadata": {
        "colab": {
          "base_uri": "https://localhost:8080/"
        },
        "id": "8Y7v_ZwieDln",
        "outputId": "1dd9002c-ff32-40be-8646-ae88f9178cc4"
      },
      "execution_count": null,
      "outputs": [
        {
          "output_type": "stream",
          "name": "stdout",
          "text": [
            "y(x) = -sin(3⋅x) - cos(3⋅x)\n"
          ]
        }
      ]
    },
    {
      "cell_type": "markdown",
      "source": [
        "***Task 1***: Solve the second order differential equation $y''+ 16y = 0$\n"
      ],
      "metadata": {
        "id": "EWMVnAY87nHV"
      }
    },
    {
      "cell_type": "code",
      "source": [
        "import sympy as sy\n",
        "\n",
        "\n",
        "x = sy.symbols('x')\n",
        "\n",
        "y = sy.Function('y')\n",
        "\n",
        "y1 = sy.Derivative(y(x), x)\n",
        "\n",
        "y2 = sy.Derivative(y(x), x, x)\n",
        "eqdiff = y2 + 16*y(x)\n",
        "\n",
        "\n",
        "sy.dsolve(eqdiff, y(x))"
      ],
      "metadata": {
        "id": "KTF-PX90Cd9d",
        "colab": {
          "base_uri": "https://localhost:8080/",
          "height": 38
        },
        "outputId": "c57ea8a0-bb72-4b32-fa92-3bb7e94efb7e"
      },
      "execution_count": null,
      "outputs": [
        {
          "output_type": "execute_result",
          "data": {
            "text/plain": [
              "Eq(y(x), C1*sin(4*x) + C2*cos(4*x))"
            ],
            "text/latex": "$\\displaystyle y{\\left(x \\right)} = C_{1} \\sin{\\left(4 x \\right)} + C_{2} \\cos{\\left(4 x \\right)}$"
          },
          "metadata": {},
          "execution_count": 1
        }
      ]
    },
    {
      "cell_type": "markdown",
      "source": [
        "Task 2: Solve the initial-value problem\n",
        "\n",
        "y′′−y′+6y=0 \n",
        "\n",
        "y(0)=1  and  y′(0)=0"
      ],
      "metadata": {
        "id": "TY8iqxBY7ulk"
      }
    },
    {
      "cell_type": "code",
      "source": [
        "import sympy as sy\n",
        "\n",
        "\n",
        "x = sy.symbols('x')\n",
        "\n",
        "y = sy.Function('y')\n",
        "\n",
        "y1 = sy.Derivative(y(x), x)\n",
        "\n",
        "y2 = sy.Derivative(y(x), x, x)\n",
        "eqdiff = y2-y1+6*y(x)\n",
        "\n",
        "\n",
        "sy.dsolve(eqdiff, y(x))\n",
        "x0 = 0\n",
        "sy.dsolve(eqdiff, y(x), ics={y(x0): 1, y(x).diff(x).subs(x, x0): 0})\n"
      ],
      "metadata": {
        "id": "DZvz1ZYcmPtn",
        "colab": {
          "base_uri": "https://localhost:8080/",
          "height": 81
        },
        "outputId": "9ab0e794-01b5-455f-c836-561918d4d6e7"
      },
      "execution_count": null,
      "outputs": [
        {
          "output_type": "execute_result",
          "data": {
            "text/plain": [
              "Eq(y(x), (-sqrt(23)*sin(sqrt(23)*x/2)/23 + cos(sqrt(23)*x/2))*exp(x/2))"
            ],
            "text/latex": "$\\displaystyle y{\\left(x \\right)} = \\left(- \\frac{\\sqrt{23} \\sin{\\left(\\frac{\\sqrt{23} x}{2} \\right)}}{23} + \\cos{\\left(\\frac{\\sqrt{23} x}{2} \\right)}\\right) e^{\\frac{x}{2}}$"
          },
          "metadata": {},
          "execution_count": 9
        }
      ]
    }
  ]
}